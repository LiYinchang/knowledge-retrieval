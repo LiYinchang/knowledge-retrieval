{
 "cells": [
  {
   "cell_type": "code",
   "execution_count": 1,
   "id": "48b2e02b-a5ea-41c0-9b93-aa9fbd402346",
   "metadata": {},
   "outputs": [],
   "source": [
    "from Config import Config\n",
    "from EmbeddingManager import EmbeddingManager\n",
    "from LanguageModel import LanguageModel\n",
    "from Retriever import Retriever\n",
    "from QueryManager import QueryManager\n",
    "\n",
    "# Load configuration\n",
    "config = Config()\n",
    "openai_api_key = config.get_openai_api_key()\n",
    "\n",
    "### get embedding\n",
    "embedding_manager = EmbeddingManager(openai_api_key)\n",
    "embedding = embedding_manager.get_openai_embeddings()  \n",
    "e5_embedding = embedding_manager.get_hf_e5_large_v2_embeddings()\n",
    "hf_embedding = embedding_manager.get_hf_miniLM_embeddings()\n",
    "\n",
    "### get model\n",
    "language_model = LanguageModel(temperature=0, openai_api_key=openai_api_key)\n",
    "llm = language_model.get_llm()\n",
    "llm_orca_mini = language_model.get_orca_mini_llm()\n"
   ]
  },
  {
   "cell_type": "code",
   "execution_count": 2,
   "id": "eab2d6ff-ca4c-46a8-9983-cbbf0cba3815",
   "metadata": {},
   "outputs": [],
   "source": [
    "index_oai = 'index_oai'\n",
    "index_e5 = 'index_e5'\n",
    "inext_stn_trns = 'inext_stn_trns'\n",
    "retriever = Retriever(embedding, index_oai, llm)\n",
    "# retriever = Retriever(ef_embedding,llm_orca_mini)"
   ]
  },
  {
   "cell_type": "code",
   "execution_count": 3,
   "id": "3d841f72-7651-45b1-9a23-155d27239603",
   "metadata": {},
   "outputs": [],
   "source": [
    "es_retriver = retriever.get_es_retriever()\n",
    "self_retriver = retriever.get_es_retriever()\n",
    "\n",
    "# Initialize QueryManager\n",
    "query_manager = QueryManager(llm, es_retriver)"
   ]
  },
  {
   "cell_type": "code",
   "execution_count": 4,
   "id": "25d8172a-a6c4-4e30-a675-a16df85fb700",
   "metadata": {},
   "outputs": [
    {
     "name": "stdout",
     "output_type": "stream",
     "text": [
      "Response: {'question': 'What should I do if I disagree with my VA disability claim decision?', 'chat_history': [SystemMessage(content='')], 'answer': 'If you disagree with a VA disability claim decision that you received on or after February 19, 2019, you can ask the Veterans Affairs to review the decision. You have three decision review options to choose from.'}\n"
     ]
    }
   ],
   "source": [
    "# Example Query\n",
    "query = \"What should I do if I disagree with my VA disability claim decision?\"\n",
    "response = query_manager.get_response(query)\n",
    "\n",
    "print(\"Response:\", response)\n"
   ]
  },
  {
   "cell_type": "code",
   "execution_count": 5,
   "id": "9a16bf72-3ac7-476d-aed9-60ef9ba1378a",
   "metadata": {},
   "outputs": [
    {
     "data": {
      "text/plain": [
       "'If you disagree with a VA disability claim decision that you received on or after February 19, 2019, you can ask the Veterans Affairs to review the decision. You have three decision review options to choose from.'"
      ]
     },
     "execution_count": 5,
     "metadata": {},
     "output_type": "execute_result"
    }
   ],
   "source": [
    "response['answer']"
   ]
  },
  {
   "cell_type": "code",
   "execution_count": null,
   "id": "467dc858-b3e2-4700-aca8-2f04c374d728",
   "metadata": {
    "scrolled": true
   },
   "outputs": [],
   "source": [
    "# Example Query\n",
    "query = \"What should I do if I disagree with my VA disability claim decision?\"\n",
    "response, source_documents = query_manager.get_response(query)\n",
    "\n",
    "print(\"Response:\", response)\n",
    "print(\"Source Documents:\", source_documents)"
   ]
  },
  {
   "cell_type": "code",
   "execution_count": null,
   "id": "53fbdbe7-d1cd-4998-a641-10bbe0126426",
   "metadata": {},
   "outputs": [],
   "source": [
    "retriever = Retriever(e5_embedding, index_e5, llm_orca_mini)\n",
    "es_retriver = retriever.get_es_retriever()\n",
    "self_retriver = retriever.get_es_retriever()\n",
    "\n",
    "# Initialize QueryManager\n",
    "query_manager = QueryManager(llm, es_retriver)"
   ]
  },
  {
   "cell_type": "code",
   "execution_count": null,
   "id": "aba0cb7d-97df-4cea-911e-456587237156",
   "metadata": {
    "scrolled": true
   },
   "outputs": [],
   "source": [
    "# Example Query\n",
    "query = \"What should I do if I disagree with my VA disability claim decision?\"\n",
    "response, source_documents = query_manager.get_response(query)\n",
    "\n",
    "print(\"Response:\", response)\n",
    "print(\"Source Documents:\", source_documents)"
   ]
  },
  {
   "cell_type": "code",
   "execution_count": null,
   "id": "e17142ff-1857-4808-9a9a-5e027938a0e3",
   "metadata": {},
   "outputs": [],
   "source": [
    "from operator import itemgetter\n",
    "\n",
    "from langchain.chat_models import ChatOpenAI\n",
    "from langchain.embeddings import OpenAIEmbeddings\n",
    "from langchain.prompts import ChatPromptTemplate\n",
    "from langchain.schema.output_parser import StrOutputParser\n",
    "from langchain.schema.runnable import RunnableLambda, RunnablePassthrough\n",
    "from langchain.vectorstores import FAISS"
   ]
  },
  {
   "cell_type": "code",
   "execution_count": null,
   "id": "342ce0ed-a224-4719-8e17-c1f3e9618ea3",
   "metadata": {},
   "outputs": [],
   "source": [
    "template = \"\"\"Answer the question based only on the following context:\n",
    "{context}\n",
    "\n",
    "Question: {question}\n",
    "\"\"\"\n",
    "prompt = ChatPromptTemplate.from_template(template)"
   ]
  },
  {
   "cell_type": "code",
   "execution_count": null,
   "id": "63166411-8aad-4031-9ecb-6e652d2e28c9",
   "metadata": {},
   "outputs": [],
   "source": [
    "model = llm"
   ]
  },
  {
   "cell_type": "code",
   "execution_count": null,
   "id": "6a2cb3e6-dfc9-4b36-9028-5e97d620845c",
   "metadata": {
    "scrolled": true
   },
   "outputs": [],
   "source": [
    "# chain = (\n",
    "#     {\"context\": retriever, \"question\": RunnablePassthrough()}\n",
    "#     | prompt\n",
    "#     | model\n",
    "#     | StrOutputParser()\n",
    "# )"
   ]
  },
  {
   "cell_type": "code",
   "execution_count": null,
   "id": "7cd30da5-729b-4d4c-83d5-9889f7deaed5",
   "metadata": {
    "scrolled": true
   },
   "outputs": [],
   "source": [
    "# !pip install langchain -U"
   ]
  },
  {
   "cell_type": "code",
   "execution_count": null,
   "id": "4dcd4453-8dcc-4181-b1eb-fa3f6ef387b4",
   "metadata": {},
   "outputs": [],
   "source": [
    "!pwd"
   ]
  },
  {
   "cell_type": "code",
   "execution_count": null,
   "id": "271c65ef-f81d-4d82-b298-71cf2a55a52d",
   "metadata": {},
   "outputs": [],
   "source": []
  },
  {
   "cell_type": "code",
   "execution_count": null,
   "id": "4cfd2887-e71d-4ab5-94a7-e634b9c2d6cd",
   "metadata": {},
   "outputs": [],
   "source": []
  }
 ],
 "metadata": {
  "kernelspec": {
   "display_name": "Python 3 (ipykernel)",
   "language": "python",
   "name": "python3"
  },
  "language_info": {
   "codemirror_mode": {
    "name": "ipython",
    "version": 3
   },
   "file_extension": ".py",
   "mimetype": "text/x-python",
   "name": "python",
   "nbconvert_exporter": "python",
   "pygments_lexer": "ipython3",
   "version": "3.10.10"
  }
 },
 "nbformat": 4,
 "nbformat_minor": 5
}
