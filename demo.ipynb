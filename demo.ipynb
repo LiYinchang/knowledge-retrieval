{
 "cells": [
  {
   "cell_type": "code",
   "execution_count": 2,
   "id": "48b2e02b-a5ea-41c0-9b93-aa9fbd402346",
   "metadata": {},
   "outputs": [],
   "source": [
    "from Config import Config\n",
    "from EmbeddingManager import EmbeddingManager\n",
    "from LanguageModel import LanguageModel\n",
    "from Retriever import Retriever\n",
    "from QueryManager import QueryManager\n",
    "\n",
    "# Load configuration\n",
    "config = Config()\n",
    "openai_api_key = config.get_openai_api_key()\n",
    "\n",
    "### get embedding\n",
    "# Initialize Embedding Manager with the API key\n",
    "embedding_manager = EmbeddingManager(openai_api_key)\n",
    "embedding = embedding_manager.get_openai_embeddings()  \n",
    "e5_embedding = embedding_manager.get_hf_e5_large_v2_embeddings()\n",
    "hf_embedding = embedding_manager.get_hf_miniLM_embeddings()\n",
    "\n",
    "### get model\n",
    "# Initialize Language Model with the API key\n",
    "language_model = LanguageModel(temperature=0, openai_api_key=openai_api_key)\n",
    "llm = language_model.get_llm()\n",
    "llm_orca_mini = language_model.get_orca_mini_llm()\n"
   ]
  },
  {
   "cell_type": "code",
   "execution_count": 3,
   "id": "eab2d6ff-ca4c-46a8-9983-cbbf0cba3815",
   "metadata": {},
   "outputs": [],
   "source": [
    "index_oai = 'index_oai'\n",
    "index_e5 = 'index_e5'\n",
    "inext_stn_trns = 'inext_stn_trns'\n",
    "retriever = Retriever(embedding, index_oai, llm)\n",
    "# retriever = Retriever(ef_embedding,llm_orca_mini)"
   ]
  },
  {
   "cell_type": "code",
   "execution_count": 4,
   "id": "3d841f72-7651-45b1-9a23-155d27239603",
   "metadata": {},
   "outputs": [],
   "source": [
    "es_retriver = retriever.get_es_retriever()\n",
    "self_retriver = retriever.get_es_retriever()\n",
    "\n",
    "# Initialize QueryManager\n",
    "query_manager = QueryManager(llm, es_retriver)\n"
   ]
  },
  {
   "cell_type": "code",
   "execution_count": 5,
   "id": "25d8172a-a6c4-4e30-a675-a16df85fb700",
   "metadata": {
    "scrolled": true
   },
   "outputs": [
    {
     "name": "stdout",
     "output_type": "stream",
     "text": [
      "Response: If you disagree with a VA disability claim decision that you received on or after February 19, 2019, you can ask the Veterans Affairs to review the decision. You have three decision review options to choose from: Supplemental Claim, Higher-Level Review, or Board Appeal. If you aren't satisfied with the results of the first option you choose, you can try another eligible option.\n",
      "Source Documents: [Document(page_content='11/19/23, 9:12 AM The VA Claim Process After You File Your Claim | Veterans Affairs\\nhttps://www.va.gov/disability/after-you-ﬁle-claim/ 3/4What should I do if I disagree with\\nmy VA disability claim decision?\\nIf you disagree with a claim decision that you received on or a\\x00er February 19,\\n2019, you can ask us to review the decision. You have 3 decision review options\\nto choose from.\\xa0\\nLearn about your decision review options (https://www.va.gov/decision-reviews)\\nMore information about disability\\nratings and payments\\nEffective date of disability\\n(https://www.va.gov/disability/effective-date)\\nFind out when you’ll start getting your disability payments.\\nWhat to expect after you get a disability rating\\n(https://www.va.gov/disability/about-disability-\\nratings/after-you-get-a-rating)If we need more evidence during the review, your claim may return\\nto this step more than once.\\nPreparation for notification\\nWe’ll get your claim decision packet ready to mail.\\nClaim complete\\nWe’ll send you a packet by U.S. mail that includes details of the\\ndecision on your claim. Please allow 7 to 10 business days for your\\npacket to arrive before contacting a VA call center.4\\n5\\nLearn what the PACT Act means for your VA benefits \\uf105', metadata={'source': '/Users/yinchangli/guardian/guardian/data/The VA Claim Process After You File Your Claim _ Veterans Affairs.pdf', 'page': 2}), Document(page_content='11/19/23, 9:18 AM How To File A VA Disability Claim | Veterans Affairs\\nhttps://www.va.gov/disability/how-to-ﬁle-claim/ 2/5What evidence do I need to support\\nmy claim?\\nYou can support your VA disability claim by providing these documents:\\nVA medical records and hospital records. These could\\xa0relate to your\\nclaimed illnesses or injuries or they could\\xa0show that your rated disability has\\ngotten worse.\\nPrivate medical records and hospital reports. These could\\xa0relate to your\\nclaimed illnesses or injuries or they could\\xa0show that your disability has\\ngotten worse.\\nSupporting statements. These could be from family members, friends,\\nclergy members, law enforcement personnel, or people\\xa0you served with.\\nThese statements\\xa0could\\xa0tell us more about your claimed condition and how\\nand when it happened or how it got worse.\\nDepending on the type of claim you file, you may gather supporting documents\\nyourself, or you can ask for our help to gather evidence.\\nLearn more about the evidence we’ll need for your claim\\n(https://www.va.gov/disability/how-to-file-claim/evidence-needed)\\nWe’ll also review your discharge papers (DD214 or other separation documents)\\nand service treatment records.\\nDo I have to submit evidence with\\nmy claim?\\nNo. You don’t have to submit any evidence to support your claim. But we may\\nneed to schedule a claim exam so we can learn more about your condition.\\nYou should also know that you have up to a year from the date we receive your\\nclaim to turn in any evidence. If you start your application and need time to\\ngather more supporting documents, you can save your application and come\\nback later to finish it. We’ll recognize the date you started your application as\\nyour date of claim as long as you complete it within 365 days.\\nLearn what the PACT Act means for your VA benefits \\uf105', metadata={'source': '/Users/yinchangli/guardian/guardian/data/How To File A VA Disability Claim _ Veterans Affairs.pdf', 'page': 1}), Document(page_content='11/19/23, 9:12 AM The VA Claim Process After You File Your Claim | Veterans Affairs\\nhttps://www.va.gov/disability/after-you-ﬁle-claim/ 2/4You don’t need to do anything unless we send you a letter asking for more\\ninformation. If we schedule any exams for you, be sure not to miss them. You can\\ncheck the status of your claim online. The timeline listed there may vary based\\non how complex your claim is.\\nWhat happens after I file a VA\\ndisability claim?Check your VA claim status (https://www .va.gov/claim-or-appeal-\\nstatus)\\uf138\\nClaim received\\nWe’ll let you know when we receive your VA disability claim.\\nIf you file your claim online, you’ll get an on-screen message\\nfrom us a\\x00er you submit the form.\\nIf you mail your application, we’ll send you a letter to let you\\nknow we have your claim. You should get this letter about 1\\nweek, plus mailing time, a\\x00er we receive your claim.\\nInitial review\\nWe’ll review your claim. Your claim will move to step 3 if we don’t\\nneed any more evidence to support it.\\nEvidenc e gathering, review, and decision\\nDuring this step, we’ll do 3 things:\\nAsk for evidence from you, health care providers,\\ngovernment\\xa0agencies, or others\\nReview the evidence\\nMake a decision1\\n2\\n3\\nLearn what the PACT Act means for your VA benefits \\uf105', metadata={'source': '/Users/yinchangli/guardian/guardian/data/The VA Claim Process After You File Your Claim _ Veterans Affairs.pdf', 'page': 1}), Document(page_content=\"11/19/23, 9:14 AM VA Decision Reviews And Appeals | Veterans Affairs\\nhttps://www.va.gov/decision-reviews/ 1/4VA decision reviews\\nand appeals\\nThe legacy VA appeals process has changed to\\nthe decision review process. If you disagree with\\na VA decision dated on or after February 19,\\n2019, you can choose from 3 decision review\\noptions (Supplemental Claim, Higher-Level\\nReview, or Board Appeal) to continue your case.\\nIf you aren’t satisfied with the results of the first\\noption you choose, you can try another eligible\\noption.\\nOn this page\\n\\uf063Request a decision review\\n\\uf063Manage your decision reviews and\\nappeals\\n\\uf063More information and resources\\nRequest a decision review\\nDecision review option: Supplemental Claim \\n(https://www.va.gov/decision-reviews/supplemental-claim)\\nYou can file a Supplemental Claim if you have new and relevant\\nevidence that we didn't have when we reviewed your case before.Expand all +\\nAsk questions\\nMessage us\\nContact us online through\\nAsk VA\\n(https://ask.va.gov)\\nCall us\\nVA benefits hotline:\\n800-827-1000\\nMyVA411 main\\ninformation line:\\n800-698-2411\\nTelecommunications\\nRelay Services (using TTY)\\nTTY: 711\\nConnect with us\\nVeterans Benefits\\nAdministration\\n(https://www.benef\\nits.va.gov/benefits/\\n)\\nGet updates\\n\\uf0e0 Veterans benefits\\nemail updates\\n(https://public.govdeliver\\ny.com/accounts/USVAVBA\\n/subscriber/new)\\nFollow us Learn what the PACT Act means for your VA benefits \\uf105 \\uf057\", metadata={'source': '/Users/yinchangli/guardian/guardian/data/VA Decision Reviews And Appeals _ Veterans Affairs.pdf', 'page': 0})]\n"
     ]
    }
   ],
   "source": [
    "# Example Query\n",
    "query = \"What should I do if I disagree with my VA disability claim decision?\"\n",
    "response, source_documents = query_manager.get_response(query)\n",
    "\n",
    "print(\"Response:\", response)\n",
    "print(\"Source Documents:\", source_documents)"
   ]
  },
  {
   "cell_type": "code",
   "execution_count": null,
   "id": "53fbdbe7-d1cd-4998-a641-10bbe0126426",
   "metadata": {},
   "outputs": [],
   "source": [
    "retriever = Retriever(e5_embedding, index_e5, llm_orca_mini)\n",
    "es_retriver = retriever.get_es_retriever()\n",
    "self_retriver = retriever.get_es_retriever()\n",
    "\n",
    "# Initialize QueryManager\n",
    "query_manager = QueryManager(llm, es_retriver)"
   ]
  },
  {
   "cell_type": "code",
   "execution_count": null,
   "id": "aba0cb7d-97df-4cea-911e-456587237156",
   "metadata": {
    "scrolled": true
   },
   "outputs": [],
   "source": [
    "# Example Query\n",
    "query = \"What should I do if I disagree with my VA disability claim decision?\"\n",
    "response, source_documents = query_manager.get_response(query)\n",
    "\n",
    "print(\"Response:\", response)\n",
    "print(\"Source Documents:\", source_documents)"
   ]
  },
  {
   "cell_type": "code",
   "execution_count": null,
   "id": "ef3e29b8-0def-474d-aacc-cf22def1cb8c",
   "metadata": {},
   "outputs": [],
   "source": []
  }
 ],
 "metadata": {
  "kernelspec": {
   "display_name": "Python 3 (ipykernel)",
   "language": "python",
   "name": "python3"
  },
  "language_info": {
   "codemirror_mode": {
    "name": "ipython",
    "version": 3
   },
   "file_extension": ".py",
   "mimetype": "text/x-python",
   "name": "python",
   "nbconvert_exporter": "python",
   "pygments_lexer": "ipython3",
   "version": "3.10.10"
  }
 },
 "nbformat": 4,
 "nbformat_minor": 5
}
