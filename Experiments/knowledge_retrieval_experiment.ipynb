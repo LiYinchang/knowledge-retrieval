{
 "cells": [
  {
   "cell_type": "code",
   "execution_count": 1,
   "id": "3731488b-78d9-4dcc-99f2-7d0a82ce6241",
   "metadata": {},
   "outputs": [],
   "source": [
    "import bs4\n",
    "from langchain import hub\n",
    "from langchain.chat_models import ChatOpenAI\n",
    "# from langchain.document_loaders import WebBaseLoader\n",
    "from langchain.schema import StrOutputParser\n",
    "from langchain.schema.runnable import RunnablePassthrough\n",
    "from langchain.text_splitter import RecursiveCharacterTextSplitter\n",
    "from langchain.vectorstores import Chroma"
   ]
  },
  {
   "cell_type": "code",
   "execution_count": 3,
   "id": "2b732d8f-8b54-42a3-8dec-e1c31aaceb1e",
   "metadata": {},
   "outputs": [
    {
     "name": "stdin",
     "output_type": "stream",
     "text": [
      " ········\n"
     ]
    }
   ],
   "source": [
    "import getpass\n",
    "import os\n",
    "\n",
    "os.environ[\"OPENAI_API_KEY\"] = getpass.getpass()"
   ]
  },
  {
   "cell_type": "code",
   "execution_count": 4,
   "id": "e14bd7a0-6b29-43ec-8ea0-dc135e8d485f",
   "metadata": {},
   "outputs": [],
   "source": [
    "from langchain.chat_models import ChatOpenAI\n",
    "llm = ChatOpenAI(model_name=\"gpt-4\", temperature=0)"
   ]
  },
  {
   "cell_type": "code",
   "execution_count": 5,
   "id": "69fc2f28-34cf-443f-ba2b-550c4a2054cb",
   "metadata": {},
   "outputs": [],
   "source": [
    "from langchain.callbacks.manager import CallbackManager\n",
    "from langchain.callbacks.streaming_stdout import StreamingStdOutCallbackHandler\n",
    "from langchain.llms import Ollama\n",
    "\n",
    "llm_orca_mini = Ollama(\n",
    "    model=\"orca-mini\", callback_manager=CallbackManager([StreamingStdOutCallbackHandler()])\n",
    ")"
   ]
  },
  {
   "cell_type": "markdown",
   "id": "aabbe7d8-8a5f-4984-a8d1-6e32177de2c0",
   "metadata": {},
   "source": [
    "### Load data"
   ]
  },
  {
   "cell_type": "code",
   "execution_count": 6,
   "id": "2534321e-8f74-4007-a101-8272edfe9df4",
   "metadata": {},
   "outputs": [],
   "source": [
    "from langchain.document_loaders import PyPDFDirectoryLoader\n",
    "\n",
    "loader = PyPDFDirectoryLoader(\"/Users/yinchangli/guardian/guardian/data/\")\n",
    "\n",
    "docs = loader.load()\n",
    "\n",
    "docs_list = [doc.page_content for doc in docs]"
   ]
  },
  {
   "cell_type": "markdown",
   "id": "7f54a81e-001b-4f1e-a4f0-7035d845d49a",
   "metadata": {},
   "source": [
    "### Split data"
   ]
  },
  {
   "cell_type": "code",
   "execution_count": 7,
   "id": "d85fe8e7-0601-4826-9cb7-8a712cc51996",
   "metadata": {},
   "outputs": [],
   "source": [
    "from langchain.text_splitter import RecursiveCharacterTextSplitter\n",
    "\n",
    "text_splitter = RecursiveCharacterTextSplitter(\n",
    "    chunk_size=1000, chunk_overlap=200, add_start_index=True\n",
    ")\n",
    "all_splits = text_splitter.split_documents(docs)"
   ]
  },
  {
   "cell_type": "markdown",
   "id": "d0c39618-f779-40f5-ac23-64c5f977fd22",
   "metadata": {},
   "source": [
    "### Embedings"
   ]
  },
  {
   "cell_type": "code",
   "execution_count": 8,
   "id": "83b2334b-41e2-429e-ab8d-c3bfa4ef9f7a",
   "metadata": {},
   "outputs": [],
   "source": [
    "from langchain.embeddings import OpenAIEmbeddings\n",
    "from langchain.embeddings import HuggingFaceBgeEmbeddings\n",
    "\n",
    "embedding=OpenAIEmbeddings()\n",
    "# model_name = 'sentence-transformers/all-MiniLM-L6-v2'\n",
    "# model_name = 'intfloat/e5-large-v2'\n",
    "embedding_sentence_trans = HuggingFaceBgeEmbeddings(model_name = 'sentence-transformers/all-MiniLM-L6-v2')\n",
    "embedding_e5_large_v2 = HuggingFaceBgeEmbeddings(model_name = 'intfloat/e5-large-v2')"
   ]
  },
  {
   "cell_type": "markdown",
   "id": "f2ab117b-8407-4c3f-9c66-e93508eda7fc",
   "metadata": {},
   "source": [
    "### Elastisearch"
   ]
  },
  {
   "cell_type": "code",
   "execution_count": 9,
   "id": "4ab3b10b-12c6-42f5-9a09-5bdfaedadec4",
   "metadata": {},
   "outputs": [],
   "source": [
    "from langchain.embeddings.openai import OpenAIEmbeddings\n",
    "from langchain.vectorstores import ElasticsearchStore"
   ]
  },
  {
   "cell_type": "code",
   "execution_count": 10,
   "id": "fafa1e03-56a4-488b-9b4d-fde4090106bf",
   "metadata": {},
   "outputs": [],
   "source": [
    "es_db = ElasticsearchStore.from_documents(\n",
    "    docs, \n",
    "    embedding, \n",
    "    es_url=\"http://localhost:9200\", \n",
    "    index_name=\"index_oai\",\n",
    "    distance_strategy=\"COSINE\",\n",
    ")\n"
   ]
  },
  {
   "cell_type": "code",
   "execution_count": 11,
   "id": "806ff0fb-80f8-4c8f-8446-120b9593b086",
   "metadata": {},
   "outputs": [],
   "source": [
    "es_db_e5 = ElasticsearchStore.from_documents(\n",
    "    docs, \n",
    "    embedding_e5_large_v2, \n",
    "    es_url=\"http://localhost:9200\", \n",
    "    index_name=\"index_e5\",\n",
    "    distance_strategy=\"COSINE\",\n",
    ")\n"
   ]
  },
  {
   "cell_type": "code",
   "execution_count": 12,
   "id": "2b482193-a70c-4433-bdd0-0bcbec7278ae",
   "metadata": {},
   "outputs": [],
   "source": [
    "es_db_stn_trns = ElasticsearchStore.from_documents(\n",
    "    docs, \n",
    "    embedding_sentence_trans, \n",
    "    es_url=\"http://localhost:9200\", \n",
    "    index_name=\"inext_stn_trns\",\n",
    "    distance_strategy=\"COSINE\",\n",
    ")"
   ]
  },
  {
   "cell_type": "code",
   "execution_count": null,
   "id": "cde3fedf-6923-4bef-8a5b-113133b47e0b",
   "metadata": {
    "scrolled": true
   },
   "outputs": [],
   "source": [
    "# es_db.client.indices.refresh(index=\"test\")\n",
    "\n",
    "# query = \"How long does it take VA to make a decision?\"\n",
    "# results = es_db.similarity_search(query)\n",
    "# print(results)"
   ]
  },
  {
   "cell_type": "code",
   "execution_count": 13,
   "id": "56b9b95f-78ad-4f7c-b03f-aac87821e649",
   "metadata": {},
   "outputs": [],
   "source": [
    "es_retriever = es_db.as_retriever(search_type=\"similarity\", search_kwargs={\"k\": 4})"
   ]
  },
  {
   "cell_type": "code",
   "execution_count": null,
   "id": "a7d2fc7f-a837-4896-ab2b-ee4884259fcf",
   "metadata": {},
   "outputs": [],
   "source": []
  },
  {
   "cell_type": "markdown",
   "id": "6ba76903-5a8a-4ca2-a6cb-6fc753faabfe",
   "metadata": {},
   "source": [
    "### Chroma Retriever"
   ]
  },
  {
   "cell_type": "code",
   "execution_count": 14,
   "id": "b037dc0c-954f-4970-b168-03df924889b2",
   "metadata": {
    "scrolled": true
   },
   "outputs": [],
   "source": [
    "from langchain.vectorstores import Chroma\n",
    "\n",
    "vectorstore = Chroma.from_documents(documents=all_splits, embedding=embedding)\n",
    "chroma_retriever = vectorstore.as_retriever(search_type=\"similarity\", search_kwargs={\"k\": 4})"
   ]
  },
  {
   "cell_type": "markdown",
   "id": "04161a60-37e3-4d3b-b30d-ad7da364e93a",
   "metadata": {},
   "source": [
    "### FAISS Retriever"
   ]
  },
  {
   "cell_type": "code",
   "execution_count": 15,
   "id": "9a5aaa1f-1826-4799-9021-2b857644077c",
   "metadata": {},
   "outputs": [],
   "source": [
    "from langchain.vectorstores import FAISS"
   ]
  },
  {
   "cell_type": "code",
   "execution_count": 16,
   "id": "0b4173a0-a391-4ace-9821-6af2858b580c",
   "metadata": {},
   "outputs": [],
   "source": [
    "faiss_vectorstore = FAISS.from_documents(docs, embedding)"
   ]
  },
  {
   "cell_type": "code",
   "execution_count": 17,
   "id": "c53e65d2-fdc7-42e1-af09-0946f2b58887",
   "metadata": {},
   "outputs": [],
   "source": [
    "faiss_retriever = faiss_vectorstore.as_retriever(search_kwargs={\"k\": 4})"
   ]
  },
  {
   "cell_type": "markdown",
   "id": "848f0b05-3e7f-403e-8966-bbe2314dee24",
   "metadata": {},
   "source": [
    "### Self-querying"
   ]
  },
  {
   "cell_type": "code",
   "execution_count": 18,
   "id": "8bbfd9b6-a0b5-4de0-8f48-8f26b724cce4",
   "metadata": {},
   "outputs": [],
   "source": [
    "from langchain.chains.query_constructor.base import AttributeInfo\n",
    "from langchain.chat_models import ChatOpenAI\n",
    "from langchain.retrievers.self_query.base import SelfQueryRetriever\n",
    "\n",
    "metadata_field_info = [\n",
    "    AttributeInfo(\n",
    "        name=\"disability_type\",\n",
    "        description=\"The type of disability being referenced. Examples include 'PTSD', 'hearing loss', 'musculoskeletal', 'mental health', etc.\",\n",
    "        type=\"string\",\n",
    "    ),\n",
    "    AttributeInfo(\n",
    "        name=\"compensation_criteria\",\n",
    "        description=\"Key criteria or conditions for compensation eligibility related to the disability\",\n",
    "        type=\"string\",\n",
    "    ),\n",
    "    AttributeInfo(\n",
    "        name=\"benefit_rate\",\n",
    "        description=\"The rate or range of VA disability compensation for the specific disability, often dependent on severity and other factors\",\n",
    "        type=\"string\",\n",
    "    ),\n",
    "    AttributeInfo(\n",
    "        name=\"documentation_required\",\n",
    "        description=\"Description of the documentation required for the compensation claim, such as medical records, service records, etc.\",\n",
    "        type=\"string\",\n",
    "    ),\n",
    "]\n",
    "document_content_description = \"Answers to common questions or explanations related to VA disability compensation\"\n"
   ]
  },
  {
   "cell_type": "code",
   "execution_count": 19,
   "id": "b9dc63d6-af8d-4e0a-b05e-eaf19cd145ee",
   "metadata": {},
   "outputs": [],
   "source": [
    "self_retriever_chrome = SelfQueryRetriever.from_llm(\n",
    "    llm,\n",
    "    vectorstore,\n",
    "    document_content_description,\n",
    "    metadata_field_info,\n",
    ")\n",
    "\n",
    "self_retriever_es = SelfQueryRetriever.from_llm(\n",
    "    llm,\n",
    "    es_db,\n",
    "    document_content_description,\n",
    "    metadata_field_info,\n",
    ")\n"
   ]
  },
  {
   "cell_type": "markdown",
   "id": "c119fd18-1137-4e62-a46f-2b98f00cb58e",
   "metadata": {},
   "source": [
    "### Ensemble Retriever"
   ]
  },
  {
   "cell_type": "code",
   "execution_count": 20,
   "id": "3310d713-e08d-4e7b-9c40-44e7f82a1d72",
   "metadata": {
    "scrolled": true
   },
   "outputs": [],
   "source": [
    "from langchain.retrievers import BM25Retriever, EnsembleRetriever\n",
    "bm25_retriever = BM25Retriever.from_texts(docs_list)\n",
    "bm25_retriever.k = 2\n",
    "\n",
    "ensemble_retriever = EnsembleRetriever(\n",
    "    retrievers=[bm25_retriever, faiss_retriever], weights=[0.5, 0.5]\n",
    ")"
   ]
  },
  {
   "cell_type": "code",
   "execution_count": null,
   "id": "47295da8-6cc9-47bf-9b31-3d00962c5fa1",
   "metadata": {},
   "outputs": [],
   "source": []
  },
  {
   "cell_type": "markdown",
   "id": "e28b80b7-ef91-4664-b6d5-e6bd55c4e6da",
   "metadata": {},
   "source": [
    "### LLM Inference"
   ]
  },
  {
   "cell_type": "code",
   "execution_count": 21,
   "id": "045bc340-b44b-478b-94cd-697e9dbdbc26",
   "metadata": {},
   "outputs": [],
   "source": [
    "from langchain.chat_models import ChatOpenAI\n",
    "llm = ChatOpenAI(model_name=\"gpt-4\", temperature=0)"
   ]
  },
  {
   "cell_type": "code",
   "execution_count": 22,
   "id": "eb973d9d-1074-4147-b06d-df17d32c88b5",
   "metadata": {},
   "outputs": [],
   "source": [
    "from langchain.chains import ConversationalRetrievalChain\n",
    "from langchain.llms import OpenAI\n",
    "from langchain.memory import ConversationSummaryMemory"
   ]
  },
  {
   "cell_type": "code",
   "execution_count": 23,
   "id": "6328bda4-b04b-4968-b68e-79a76ff5cf66",
   "metadata": {},
   "outputs": [],
   "source": [
    "def get_response(llm, retriever,query):\n",
    "    qa = ConversationalRetrievalChain.from_llm(\n",
    "        llm,\n",
    "        retriever,\n",
    "        return_source_documents=True\n",
    "    )\n",
    "    result = qa({\"question\": query, \"chat_history\":[]})\n",
    "    return result['answer'], result['source_documents']\n",
    "    "
   ]
  },
  {
   "cell_type": "code",
   "execution_count": 24,
   "id": "bc17d83b-71d2-4424-a162-6c9da16bc7a9",
   "metadata": {},
   "outputs": [],
   "source": [
    "# query = \"what are the factors for determing the time it will take my claim?\"\n",
    "# query = \"How long does it take VA to make a decision?\"\n",
    "query = 'What should I do if I disagree with my VA disability claim decision?'"
   ]
  },
  {
   "cell_type": "code",
   "execution_count": 25,
   "id": "ab8814da-2f51-4269-a5c3-4b41b445e4e5",
   "metadata": {
    "scrolled": true
   },
   "outputs": [
    {
     "name": "stderr",
     "output_type": "stream",
     "text": [
      "huggingface/tokenizers: The current process just got forked, after parallelism has already been used. Disabling parallelism to avoid deadlocks...\n",
      "To disable this warning, you can either:\n",
      "\t- Avoid using `tokenizers` before the fork if possible\n",
      "\t- Explicitly set the environment variable TOKENIZERS_PARALLELISM=(true | false)\n"
     ]
    },
    {
     "data": {
      "text/plain": [
       "(\"If you disagree with a VA disability claim decision that you received on or after February 19, 2019, you can ask for a review of the decision. You have three decision review options to choose from: Supplemental Claim, Higher-Level Review, or Board Appeal. If you aren't satisfied with the results of the first option you choose, you can try another eligible option.\",\n",
       " [Document(page_content='11/19/23, 9:12 AM The VA Claim Process After You File Your Claim | Veterans Affairs\\nhttps://www.va.gov/disability/after-you-ﬁle-claim/ 3/4What should I do if I disagree with\\nmy VA disability claim decision?\\nIf you disagree with a claim decision that you received on or a\\x00er February 19,\\n2019, you can ask us to review the decision. You have 3 decision review options\\nto choose from.\\xa0\\nLearn about your decision review options (https://www.va.gov/decision-reviews)\\nMore information about disability\\nratings and payments\\nEffective date of disability\\n(https://www.va.gov/disability/effective-date)\\nFind out when you’ll start getting your disability payments.\\nWhat to expect after you get a disability rating\\n(https://www.va.gov/disability/about-disability-\\nratings/after-you-get-a-rating)If we need more evidence during the review, your claim may return\\nto this step more than once.\\nPreparation for notification\\nWe’ll get your claim decision packet ready to mail.\\nClaim complete', metadata={'page': 2, 'source': '/Users/yinchangli/guardian/guardian/data/The VA Claim Process After You File Your Claim _ Veterans Affairs.pdf', 'start_index': 0}),\n",
       "  Document(page_content=\"11/19/23, 9:14 AM VA Decision Reviews And Appeals | Veterans Affairs\\nhttps://www.va.gov/decision-reviews/ 1/4VA decision reviews\\nand appeals\\nThe legacy VA appeals process has changed to\\nthe decision review process. If you disagree with\\na VA decision dated on or after February 19,\\n2019, you can choose from 3 decision review\\noptions (Supplemental Claim, Higher-Level\\nReview, or Board Appeal) to continue your case.\\nIf you aren’t satisfied with the results of the first\\noption you choose, you can try another eligible\\noption.\\nOn this page\\n\\uf063Request a decision review\\n\\uf063Manage your decision reviews and\\nappeals\\n\\uf063More information and resources\\nRequest a decision review\\nDecision review option: Supplemental Claim \\n(https://www.va.gov/decision-reviews/supplemental-claim)\\nYou can file a Supplemental Claim if you have new and relevant\\nevidence that we didn't have when we reviewed your case before.Expand all +\\nAsk questions\\nMessage us\\nContact us online through\\nAsk VA\\n(https://ask.va.gov)\\nCall us\", metadata={'page': 0, 'source': '/Users/yinchangli/guardian/guardian/data/VA Decision Reviews And Appeals _ Veterans Affairs.pdf', 'start_index': 0}),\n",
       "  Document(page_content='File for disability compensation with VA Form 21-526EZ (https://www .va.gov/disability/file-disability-\\nclaim-form-21-526ez)\\n\\uf071 Th is application is do wn for m aint ena nc e.\\nWe’re making some updates to this application. We’re sorry it’s not working right now, and we\\nhope to be finished by November 19th, 7:00 p.m. Please check back soon.\\nPrepare\\nWhen you file a disability claim, you’ll have a chance to provide evidence to support your claim.\\nEvidence could include:\\nVA medical records and hospital records that relate to your claimed condition or that show your\\nrated disability has gotten worse\\nPrivate medical records and hospital reports that relate to your claimed condition or that show\\nyour disability has gotten worse\\nSupporting statements from family, friends, coworkers, clergy, or law enforcement personnel\\nwith knowledge about how and when your disability happened or how it got worse\\nIn some cases, you may need to turn in one or more additional forms to support your disability', metadata={'page': 0, 'source': '/Users/yinchangli/guardian/guardian/data/File for disability compensation with VA Form 21-526EZ _ Veterans Affairs.pdf', 'start_index': 747}),\n",
       "  Document(page_content='Work with an accredited representative.\\nGet help filing your claim (https://www.va.gov/disability/get-help-filing-\\nclaim/)\\nUse the QuickSubmit\\xa0tool through AccessVA to upload your form online.\\nGo to AccessVA to use QuickSubmit (https://eauth.va.gov/accessva/?\\ncspSelectFor=quicksubmit)\\nMail your\\xa0form to this address:\\nDepartment of Veterans A\\x00airs\\nPension Intake Center\\nPO Box 5365\\nJanesville, WI 53547-5365\\nGo to a VA regional o\\x00ice and get help from a VA employee.\\nFind a VA regional o\\x00ice near you (https://www.va.gov/find-locations/?\\nfacilityType=benefits)\\nShould I subm it an int ent  to file\\nform ?\\nYou may want to submit an intent to file form before you apply for DIC benefits.\\nThis can give you the time you need to gather your evidence while avoiding a Learn what the PACT Act means for your VA benefits \\uf105', metadata={'page': 2, 'source': '/Users/yinchangli/guardian/guardian/data/About VA DIC For Spouses, Dependents, And Parents _ Veterans Affairs.pdf', 'start_index': 743})])"
      ]
     },
     "execution_count": 25,
     "metadata": {},
     "output_type": "execute_result"
    }
   ],
   "source": [
    "get_response(llm, chroma_retriever, query)"
   ]
  },
  {
   "cell_type": "code",
   "execution_count": 26,
   "id": "e6efd5bc-3670-4cf7-a2d0-e19b8f1bc138",
   "metadata": {
    "scrolled": true
   },
   "outputs": [
    {
     "name": "stderr",
     "output_type": "stream",
     "text": [
      "huggingface/tokenizers: The current process just got forked, after parallelism has already been used. Disabling parallelism to avoid deadlocks...\n",
      "To disable this warning, you can either:\n",
      "\t- Avoid using `tokenizers` before the fork if possible\n",
      "\t- Explicitly set the environment variable TOKENIZERS_PARALLELISM=(true | false)\n"
     ]
    },
    {
     "name": "stdout",
     "output_type": "stream",
     "text": [
      " If you disagree with your VA disability claim decision, you should follow these steps:\n",
      "1. Contact the VA and explain your concerns about your decision.\n",
      "2. Ask for an explanation of how the decision was made.\n",
      "3. Provide any new evidence you may have that supports your case.\n",
      "4. If your claim is still disputed, request a decision review.\n",
      "5. Consider appealing the decision if you are not satisfied with the outcome.\n",
      "It's important to keep in mind that VA disability claims are processed in a specific order and you can only appeal one decision at a time."
     ]
    },
    {
     "data": {
      "text/plain": [
       "(\" If you disagree with your VA disability claim decision, you should follow these steps:\\n1. Contact the VA and explain your concerns about your decision.\\n2. Ask for an explanation of how the decision was made.\\n3. Provide any new evidence you may have that supports your case.\\n4. If your claim is still disputed, request a decision review.\\n5. Consider appealing the decision if you are not satisfied with the outcome.\\nIt's important to keep in mind that VA disability claims are processed in a specific order and you can only appeal one decision at a time.\",\n",
       " [Document(page_content='11/19/23, 9:12 AM The VA Claim Process After You File Your Claim | Veterans Affairs\\nhttps://www.va.gov/disability/after-you-ﬁle-claim/ 3/4What should I do if I disagree with\\nmy VA disability claim decision?\\nIf you disagree with a claim decision that you received on or a\\x00er February 19,\\n2019, you can ask us to review the decision. You have 3 decision review options\\nto choose from.\\xa0\\nLearn about your decision review options (https://www.va.gov/decision-reviews)\\nMore information about disability\\nratings and payments\\nEffective date of disability\\n(https://www.va.gov/disability/effective-date)\\nFind out when you’ll start getting your disability payments.\\nWhat to expect after you get a disability rating\\n(https://www.va.gov/disability/about-disability-\\nratings/after-you-get-a-rating)If we need more evidence during the review, your claim may return\\nto this step more than once.\\nPreparation for notification\\nWe’ll get your claim decision packet ready to mail.\\nClaim complete', metadata={'page': 2, 'source': '/Users/yinchangli/guardian/guardian/data/The VA Claim Process After You File Your Claim _ Veterans Affairs.pdf', 'start_index': 0}),\n",
       "  Document(page_content='File for disability compensation with VA Form 21-526EZ (https://www .va.gov/disability/file-disability-\\nclaim-form-21-526ez)\\n\\uf071 Th is application is do wn for m aint ena nc e.\\nWe’re making some updates to this application. We’re sorry it’s not working right now, and we\\nhope to be finished by November 19th, 7:00 p.m. Please check back soon.\\nPrepare\\nWhen you file a disability claim, you’ll have a chance to provide evidence to support your claim.\\nEvidence could include:\\nVA medical records and hospital records that relate to your claimed condition or that show your\\nrated disability has gotten worse\\nPrivate medical records and hospital reports that relate to your claimed condition or that show\\nyour disability has gotten worse\\nSupporting statements from family, friends, coworkers, clergy, or law enforcement personnel\\nwith knowledge about how and when your disability happened or how it got worse\\nIn some cases, you may need to turn in one or more additional forms to support your disability', metadata={'page': 0, 'source': '/Users/yinchangli/guardian/guardian/data/File for disability compensation with VA Form 21-526EZ _ Veterans Affairs.pdf', 'start_index': 747}),\n",
       "  Document(page_content=\"11/19/23, 9:14 AM VA Decision Reviews And Appeals | Veterans Affairs\\nhttps://www.va.gov/decision-reviews/ 1/4VA decision reviews\\nand appeals\\nThe legacy VA appeals process has changed to\\nthe decision review process. If you disagree with\\na VA decision dated on or after February 19,\\n2019, you can choose from 3 decision review\\noptions (Supplemental Claim, Higher-Level\\nReview, or Board Appeal) to continue your case.\\nIf you aren’t satisfied with the results of the first\\noption you choose, you can try another eligible\\noption.\\nOn this page\\n\\uf063Request a decision review\\n\\uf063Manage your decision reviews and\\nappeals\\n\\uf063More information and resources\\nRequest a decision review\\nDecision review option: Supplemental Claim \\n(https://www.va.gov/decision-reviews/supplemental-claim)\\nYou can file a Supplemental Claim if you have new and relevant\\nevidence that we didn't have when we reviewed your case before.Expand all +\\nAsk questions\\nMessage us\\nContact us online through\\nAsk VA\\n(https://ask.va.gov)\\nCall us\", metadata={'page': 0, 'source': '/Users/yinchangli/guardian/guardian/data/VA Decision Reviews And Appeals _ Veterans Affairs.pdf', 'start_index': 0}),\n",
       "  Document(page_content='11/19/23, 9:18 AM How To File A VA Disability Claim | Veterans Affairs\\nhttps://www.va.gov/disability/how-to-ﬁle-claim/ 2/5What evidence do I need to support\\nmy claim?\\nYou can support your VA disability claim by providing these documents:\\nVA medical records and hospital records. These could\\xa0relate to your\\nclaimed illnesses or injuries or they could\\xa0show that your rated disability has\\ngotten worse.\\nPrivate medical records and hospital reports. These could\\xa0relate to your\\nclaimed illnesses or injuries or they could\\xa0show that your disability has\\ngotten worse.\\nSupporting statements. These could be from family members, friends,\\nclergy members, law enforcement personnel, or people\\xa0you served with.\\nThese statements\\xa0could\\xa0tell us more about your claimed condition and how\\nand when it happened or how it got worse.\\nDepending on the type of claim you file, you may gather supporting documents\\nyourself, or you can ask for our help to gather evidence.', metadata={'page': 1, 'source': '/Users/yinchangli/guardian/guardian/data/How To File A VA Disability Claim _ Veterans Affairs.pdf', 'start_index': 0})])"
      ]
     },
     "execution_count": 26,
     "metadata": {},
     "output_type": "execute_result"
    }
   ],
   "source": [
    "get_response(llm_orca_mini, self_retriever_chrome, query)"
   ]
  },
  {
   "cell_type": "code",
   "execution_count": 28,
   "id": "cad4c8f1-085c-481f-b588-5bd6dadff7bd",
   "metadata": {
    "scrolled": true
   },
   "outputs": [
    {
     "data": {
      "text/plain": [
       "(\"If you disagree with a VA disability claim decision that you received on or after February 19, 2019, you can ask the Veterans Affairs to review the decision. You have three decision review options to choose from: Supplemental Claim, Higher-Level Review, or Board Appeal. If you aren't satisfied with the results of the first option you choose, you can try another eligible option.\",\n",
       " [Document(page_content='11/19/23, 9:12 AM The VA Claim Process After You File Your Claim | Veterans Affairs\\nhttps://www.va.gov/disability/after-you-ﬁle-claim/ 3/4What should I do if I disagree with\\nmy VA disability claim decision?\\nIf you disagree with a claim decision that you received on or a\\x00er February 19,\\n2019, you can ask us to review the decision. You have 3 decision review options\\nto choose from.\\xa0\\nLearn about your decision review options (https://www.va.gov/decision-reviews)\\nMore information about disability\\nratings and payments\\nEffective date of disability\\n(https://www.va.gov/disability/effective-date)\\nFind out when you’ll start getting your disability payments.\\nWhat to expect after you get a disability rating\\n(https://www.va.gov/disability/about-disability-\\nratings/after-you-get-a-rating)If we need more evidence during the review, your claim may return\\nto this step more than once.\\nPreparation for notification\\nWe’ll get your claim decision packet ready to mail.\\nClaim complete\\nWe’ll send you a packet by U.S. mail that includes details of the\\ndecision on your claim. Please allow 7 to 10 business days for your\\npacket to arrive before contacting a VA call center.4\\n5\\nLearn what the PACT Act means for your VA benefits \\uf105', metadata={'source': '/Users/yinchangli/guardian/guardian/data/The VA Claim Process After You File Your Claim _ Veterans Affairs.pdf', 'page': 2}),\n",
       "  Document(page_content='11/19/23, 9:18 AM How To File A VA Disability Claim | Veterans Affairs\\nhttps://www.va.gov/disability/how-to-ﬁle-claim/ 2/5What evidence do I need to support\\nmy claim?\\nYou can support your VA disability claim by providing these documents:\\nVA medical records and hospital records. These could\\xa0relate to your\\nclaimed illnesses or injuries or they could\\xa0show that your rated disability has\\ngotten worse.\\nPrivate medical records and hospital reports. These could\\xa0relate to your\\nclaimed illnesses or injuries or they could\\xa0show that your disability has\\ngotten worse.\\nSupporting statements. These could be from family members, friends,\\nclergy members, law enforcement personnel, or people\\xa0you served with.\\nThese statements\\xa0could\\xa0tell us more about your claimed condition and how\\nand when it happened or how it got worse.\\nDepending on the type of claim you file, you may gather supporting documents\\nyourself, or you can ask for our help to gather evidence.\\nLearn more about the evidence we’ll need for your claim\\n(https://www.va.gov/disability/how-to-file-claim/evidence-needed)\\nWe’ll also review your discharge papers (DD214 or other separation documents)\\nand service treatment records.\\nDo I have to submit evidence with\\nmy claim?\\nNo. You don’t have to submit any evidence to support your claim. But we may\\nneed to schedule a claim exam so we can learn more about your condition.\\nYou should also know that you have up to a year from the date we receive your\\nclaim to turn in any evidence. If you start your application and need time to\\ngather more supporting documents, you can save your application and come\\nback later to finish it. We’ll recognize the date you started your application as\\nyour date of claim as long as you complete it within 365 days.\\nLearn what the PACT Act means for your VA benefits \\uf105', metadata={'source': '/Users/yinchangli/guardian/guardian/data/How To File A VA Disability Claim _ Veterans Affairs.pdf', 'page': 1}),\n",
       "  Document(page_content='11/19/23, 9:12 AM The VA Claim Process After You File Your Claim | Veterans Affairs\\nhttps://www.va.gov/disability/after-you-ﬁle-claim/ 2/4You don’t need to do anything unless we send you a letter asking for more\\ninformation. If we schedule any exams for you, be sure not to miss them. You can\\ncheck the status of your claim online. The timeline listed there may vary based\\non how complex your claim is.\\nWhat happens after I file a VA\\ndisability claim?Check your VA claim status (https://www .va.gov/claim-or-appeal-\\nstatus)\\uf138\\nClaim received\\nWe’ll let you know when we receive your VA disability claim.\\nIf you file your claim online, you’ll get an on-screen message\\nfrom us a\\x00er you submit the form.\\nIf you mail your application, we’ll send you a letter to let you\\nknow we have your claim. You should get this letter about 1\\nweek, plus mailing time, a\\x00er we receive your claim.\\nInitial review\\nWe’ll review your claim. Your claim will move to step 3 if we don’t\\nneed any more evidence to support it.\\nEvidenc e gathering, review, and decision\\nDuring this step, we’ll do 3 things:\\nAsk for evidence from you, health care providers,\\ngovernment\\xa0agencies, or others\\nReview the evidence\\nMake a decision1\\n2\\n3\\nLearn what the PACT Act means for your VA benefits \\uf105', metadata={'source': '/Users/yinchangli/guardian/guardian/data/The VA Claim Process After You File Your Claim _ Veterans Affairs.pdf', 'page': 1}),\n",
       "  Document(page_content=\"11/19/23, 9:14 AM VA Decision Reviews And Appeals | Veterans Affairs\\nhttps://www.va.gov/decision-reviews/ 1/4VA decision reviews\\nand appeals\\nThe legacy VA appeals process has changed to\\nthe decision review process. If you disagree with\\na VA decision dated on or after February 19,\\n2019, you can choose from 3 decision review\\noptions (Supplemental Claim, Higher-Level\\nReview, or Board Appeal) to continue your case.\\nIf you aren’t satisfied with the results of the first\\noption you choose, you can try another eligible\\noption.\\nOn this page\\n\\uf063Request a decision review\\n\\uf063Manage your decision reviews and\\nappeals\\n\\uf063More information and resources\\nRequest a decision review\\nDecision review option: Supplemental Claim \\n(https://www.va.gov/decision-reviews/supplemental-claim)\\nYou can file a Supplemental Claim if you have new and relevant\\nevidence that we didn't have when we reviewed your case before.Expand all +\\nAsk questions\\nMessage us\\nContact us online through\\nAsk VA\\n(https://ask.va.gov)\\nCall us\\nVA benefits hotline:\\n800-827-1000\\nMyVA411 main\\ninformation line:\\n800-698-2411\\nTelecommunications\\nRelay Services (using TTY)\\nTTY: 711\\nConnect with us\\nVeterans Benefits\\nAdministration\\n(https://www.benef\\nits.va.gov/benefits/\\n)\\nGet updates\\n\\uf0e0 Veterans benefits\\nemail updates\\n(https://public.govdeliver\\ny.com/accounts/USVAVBA\\n/subscriber/new)\\nFollow us Learn what the PACT Act means for your VA benefits \\uf105 \\uf057\", metadata={'source': '/Users/yinchangli/guardian/guardian/data/VA Decision Reviews And Appeals _ Veterans Affairs.pdf', 'page': 0})])"
      ]
     },
     "execution_count": 28,
     "metadata": {},
     "output_type": "execute_result"
    }
   ],
   "source": [
    "get_response(llm, faiss_retriever, query)"
   ]
  },
  {
   "cell_type": "code",
   "execution_count": 29,
   "id": "fd7029ca-2080-47d8-b272-000c95f3702b",
   "metadata": {
    "scrolled": true
   },
   "outputs": [
    {
     "data": {
      "text/plain": [
       "('If you disagree with a VA disability claim decision that you received on or after February 19, 2019, you can ask the Veterans Affairs to review the decision. You have three decision review options to choose from.',\n",
       " [Document(page_content='11/19/23, 9:12 AM The VA Claim Process After You File Your Claim | Veterans Affairs\\nhttps://www.va.gov/disability/after-you-ﬁle-claim/ 3/4What should I do if I disagree with\\nmy VA disability claim decision?\\nIf you disagree with a claim decision that you received on or a\\x00er February 19,\\n2019, you can ask us to review the decision. You have 3 decision review options\\nto choose from.\\xa0\\nLearn about your decision review options (https://www.va.gov/decision-reviews)\\nMore information about disability\\nratings and payments\\nEffective date of disability\\n(https://www.va.gov/disability/effective-date)\\nFind out when you’ll start getting your disability payments.\\nWhat to expect after you get a disability rating\\n(https://www.va.gov/disability/about-disability-\\nratings/after-you-get-a-rating)If we need more evidence during the review, your claim may return\\nto this step more than once.\\nPreparation for notification\\nWe’ll get your claim decision packet ready to mail.\\nClaim complete\\nWe’ll send you a packet by U.S. mail that includes details of the\\ndecision on your claim. Please allow 7 to 10 business days for your\\npacket to arrive before contacting a VA call center.4\\n5\\nLearn what the PACT Act means for your VA benefits \\uf105', metadata={'source': '/Users/yinchangli/guardian/guardian/data/The VA Claim Process After You File Your Claim _ Veterans Affairs.pdf', 'page': 2}),\n",
       "  Document(page_content='11/19/23, 9:12 AM The VA Claim Process After You File Your Claim | Veterans Affairs\\nhttps://www.va.gov/disability/after-you-ﬁle-claim/ 3/4What should I do if I disagree with\\nmy VA disability claim decision?\\nIf you disagree with a claim decision that you received on or a\\x00er February 19,\\n2019, you can ask us to review the decision. You have 3 decision review options\\nto choose from.\\xa0\\nLearn about your decision review options (https://www.va.gov/decision-reviews)\\nMore information about disability\\nratings and payments\\nEffective date of disability\\n(https://www.va.gov/disability/effective-date)\\nFind out when you’ll start getting your disability payments.\\nWhat to expect after you get a disability rating\\n(https://www.va.gov/disability/about-disability-\\nratings/after-you-get-a-rating)If we need more evidence during the review, your claim may return\\nto this step more than once.\\nPreparation for notification\\nWe’ll get your claim decision packet ready to mail.\\nClaim complete\\nWe’ll send you a packet by U.S. mail that includes details of the\\ndecision on your claim. Please allow 7 to 10 business days for your\\npacket to arrive before contacting a VA call center.4\\n5\\nLearn what the PACT Act means for your VA benefits \\uf105', metadata={'source': '/Users/yinchangli/guardian/guardian/data/The VA Claim Process After You File Your Claim _ Veterans Affairs.pdf', 'page': 2}),\n",
       "  Document(page_content='11/19/23, 9:18 AM How To File A VA Disability Claim | Veterans Affairs\\nhttps://www.va.gov/disability/how-to-ﬁle-claim/ 2/5What evidence do I need to support\\nmy claim?\\nYou can support your VA disability claim by providing these documents:\\nVA medical records and hospital records. These could\\xa0relate to your\\nclaimed illnesses or injuries or they could\\xa0show that your rated disability has\\ngotten worse.\\nPrivate medical records and hospital reports. These could\\xa0relate to your\\nclaimed illnesses or injuries or they could\\xa0show that your disability has\\ngotten worse.\\nSupporting statements. These could be from family members, friends,\\nclergy members, law enforcement personnel, or people\\xa0you served with.\\nThese statements\\xa0could\\xa0tell us more about your claimed condition and how\\nand when it happened or how it got worse.\\nDepending on the type of claim you file, you may gather supporting documents\\nyourself, or you can ask for our help to gather evidence.\\nLearn more about the evidence we’ll need for your claim\\n(https://www.va.gov/disability/how-to-file-claim/evidence-needed)\\nWe’ll also review your discharge papers (DD214 or other separation documents)\\nand service treatment records.\\nDo I have to submit evidence with\\nmy claim?\\nNo. You don’t have to submit any evidence to support your claim. But we may\\nneed to schedule a claim exam so we can learn more about your condition.\\nYou should also know that you have up to a year from the date we receive your\\nclaim to turn in any evidence. If you start your application and need time to\\ngather more supporting documents, you can save your application and come\\nback later to finish it. We’ll recognize the date you started your application as\\nyour date of claim as long as you complete it within 365 days.\\nLearn what the PACT Act means for your VA benefits \\uf105', metadata={'source': '/Users/yinchangli/guardian/guardian/data/How To File A VA Disability Claim _ Veterans Affairs.pdf', 'page': 1}),\n",
       "  Document(page_content='11/19/23, 9:18 AM How To File A VA Disability Claim | Veterans Affairs\\nhttps://www.va.gov/disability/how-to-ﬁle-claim/ 2/5What evidence do I need to support\\nmy claim?\\nYou can support your VA disability claim by providing these documents:\\nVA medical records and hospital records. These could\\xa0relate to your\\nclaimed illnesses or injuries or they could\\xa0show that your rated disability has\\ngotten worse.\\nPrivate medical records and hospital reports. These could\\xa0relate to your\\nclaimed illnesses or injuries or they could\\xa0show that your disability has\\ngotten worse.\\nSupporting statements. These could be from family members, friends,\\nclergy members, law enforcement personnel, or people\\xa0you served with.\\nThese statements\\xa0could\\xa0tell us more about your claimed condition and how\\nand when it happened or how it got worse.\\nDepending on the type of claim you file, you may gather supporting documents\\nyourself, or you can ask for our help to gather evidence.\\nLearn more about the evidence we’ll need for your claim\\n(https://www.va.gov/disability/how-to-file-claim/evidence-needed)\\nWe’ll also review your discharge papers (DD214 or other separation documents)\\nand service treatment records.\\nDo I have to submit evidence with\\nmy claim?\\nNo. You don’t have to submit any evidence to support your claim. But we may\\nneed to schedule a claim exam so we can learn more about your condition.\\nYou should also know that you have up to a year from the date we receive your\\nclaim to turn in any evidence. If you start your application and need time to\\ngather more supporting documents, you can save your application and come\\nback later to finish it. We’ll recognize the date you started your application as\\nyour date of claim as long as you complete it within 365 days.\\nLearn what the PACT Act means for your VA benefits \\uf105', metadata={'source': '/Users/yinchangli/guardian/guardian/data/How To File A VA Disability Claim _ Veterans Affairs.pdf', 'page': 1})])"
      ]
     },
     "execution_count": 29,
     "metadata": {},
     "output_type": "execute_result"
    }
   ],
   "source": [
    "get_response(llm, es_retriever, query)"
   ]
  },
  {
   "cell_type": "markdown",
   "id": "d8093110-fcb3-4fc2-b39c-6ef25506ed3c",
   "metadata": {
    "scrolled": true
   },
   "source": [
    "### Guardrails"
   ]
  },
  {
   "cell_type": "code",
   "execution_count": 30,
   "id": "80c3c71d-6d6c-49bb-b497-1d135b47cc46",
   "metadata": {},
   "outputs": [],
   "source": [
    "from nemoguardrails import LLMRails, RailsConfig"
   ]
  },
  {
   "cell_type": "code",
   "execution_count": 31,
   "id": "a4990371-fb41-48a8-8d32-36d839b4bfa2",
   "metadata": {},
   "outputs": [],
   "source": [
    "# !pwd\n",
    "CONFIG_PATH = \"/Users/yinchangli/guardian/guardian/Topical_Rail/\""
   ]
  },
  {
   "cell_type": "code",
   "execution_count": 32,
   "id": "1f1981c0-aed8-4dfd-9b8b-0e475ca4d977",
   "metadata": {},
   "outputs": [],
   "source": [
    "llm = ChatOpenAI(model_name=\"gpt-4\", temperature=0)\n",
    "config = RailsConfig.from_path(CONFIG_PATH)"
   ]
  },
  {
   "cell_type": "code",
   "execution_count": 33,
   "id": "f8674991-cdc8-4573-bfc1-cac12f12a29b",
   "metadata": {},
   "outputs": [],
   "source": [
    "def get_guardrail_response(llm, retriever,query):\n",
    "    qa = ConversationalRetrievalChain.from_llm(\n",
    "        llm,\n",
    "        retriever,\n",
    "        return_source_documents=True\n",
    "    )\n",
    "    app = LLMRails(config = config, llm = llm)\n",
    "    app.register_action(qa, name = 'conversation')\n",
    "    history = [\n",
    "    {\"role\": \"user\", \"content\":query}\n",
    "]\n",
    "    result = app.generate(messages = history)\n",
    "    return result"
   ]
  },
  {
   "cell_type": "code",
   "execution_count": 34,
   "id": "fa6babc4-7aab-4766-9c81-b46d91a3496d",
   "metadata": {},
   "outputs": [
    {
     "name": "stderr",
     "output_type": "stream",
     "text": [
      "huggingface/tokenizers: The current process just got forked, after parallelism has already been used. Disabling parallelism to avoid deadlocks...\n",
      "To disable this warning, you can either:\n",
      "\t- Avoid using `tokenizers` before the fork if possible\n",
      "\t- Explicitly set the environment variable TOKENIZERS_PARALLELISM=(true | false)\n"
     ]
    },
    {
     "data": {
      "text/plain": [
       "{'role': 'assistant',\n",
       " 'content': 'The VA typically takes 3 to 4 months to issue a decision. However, the exact time can vary depending on the complexity of the case, the amount of evidence, and the type of claim filed.'}"
      ]
     },
     "execution_count": 34,
     "metadata": {},
     "output_type": "execute_result"
    }
   ],
   "source": [
    "query = \"How long does it take VA to make a decision?\"\n",
    "get_guardrail_response(llm, chroma_retriever, query)"
   ]
  },
  {
   "cell_type": "code",
   "execution_count": 35,
   "id": "587b2980-eb18-47e9-85ce-1c9400ba2377",
   "metadata": {},
   "outputs": [
    {
     "name": "stderr",
     "output_type": "stream",
     "text": [
      "/Users/yinchangli/env/lib/python3.10/site-packages/langchain/llms/ollama.py:186: RuntimeWarning: coroutine 'AsyncCallbackManagerForLLMRun.on_llm_new_token' was never awaited\n",
      "  run_manager.on_llm_new_token(\n",
      "RuntimeWarning: Enable tracemalloc to get the object allocation traceback\n",
      "/Users/yinchangli/env/lib/python3.10/site-packages/langchain/llms/ollama.py:186: RuntimeWarning: coroutine 'AsyncCallbackManagerForLLMRun.on_llm_new_token' was never awaited\n",
      "  run_manager.on_llm_new_token(\n",
      "RuntimeWarning: Enable tracemalloc to get the object allocation traceback\n",
      "/Users/yinchangli/env/lib/python3.10/site-packages/langchain/llms/ollama.py:186: RuntimeWarning: coroutine 'AsyncCallbackManagerForLLMRun.on_llm_new_token' was never awaited\n",
      "  run_manager.on_llm_new_token(\n",
      "RuntimeWarning: Enable tracemalloc to get the object allocation traceback\n"
     ]
    },
    {
     "data": {
      "text/plain": [
       "{'role': 'assistant',\n",
       " 'content': 'Is there anything else I can help you with today?'}"
      ]
     },
     "execution_count": 35,
     "metadata": {},
     "output_type": "execute_result"
    }
   ],
   "source": [
    "get_guardrail_response(llm_orca_mini, chroma_retriever, query)"
   ]
  },
  {
   "cell_type": "markdown",
   "id": "ff0bd190-fc47-43f6-93f8-5c5e502c0714",
   "metadata": {},
   "source": [
    "## RAG System Evaluation"
   ]
  },
  {
   "cell_type": "code",
   "execution_count": 36,
   "id": "2f580749-afd2-41d0-b6e4-19adfa1af2d8",
   "metadata": {},
   "outputs": [],
   "source": [
    "import pandas as pd\n",
    "\n",
    "df_test = pd.read_csv('questions_w_groundtruth.csv')"
   ]
  },
  {
   "cell_type": "code",
   "execution_count": 37,
   "id": "1d9a4c7a-6603-4321-9b97-f015566fb7c5",
   "metadata": {
    "scrolled": true
   },
   "outputs": [
    {
     "name": "stderr",
     "output_type": "stream",
     "text": [
      "huggingface/tokenizers: The current process just got forked, after parallelism has already been used. Disabling parallelism to avoid deadlocks...\n",
      "To disable this warning, you can either:\n",
      "\t- Avoid using `tokenizers` before the fork if possible\n",
      "\t- Explicitly set the environment variable TOKENIZERS_PARALLELISM=(true | false)\n"
     ]
    },
    {
     "name": "stdout",
     "output_type": "stream",
     "text": [
      "question: How long does it take VA to make a decision?\n",
      "answer: The time it takes for the VA to make a decision on a claim depends on several factors including the type of claim filed, the number and complexity of injuries or disabilities claimed, and how long it takes to collect the necessary evidence to decide the claim. As of September 2023, the average number of days to complete disability-related claims was 103.3 days.\n",
      "-----------------------------\n",
      "question: what are the factors for determing the time it will take my claim?\n",
      "answer: The time it takes to review your claim depends on these factors:\n",
      "\n",
      "1. The type of claim you filed\n",
      "2. How many injuries or disabilities you claimed and how complex they are\n",
      "3. How long it takes to collect the evidence needed to decide your claim\n",
      "-----------------------------\n",
      "question: What should I do if I disagree with my VA disability claim decision?\n",
      "answer: If you disagree with a VA disability claim decision that you received on or after February 19, 2019, you can ask the Veterans Affairs to review the decision. You have three decision review options to choose from.\n",
      "-----------------------------\n",
      "question: How can I change my VA direct deposit information online?\n",
      "answer: To change your VA direct deposit information online, you need to sign in to your VA.gov profile. If you receive disability compensation, pension, or education benefits from VA, you can update your direct deposit information there. You will need your bank's routing number and account number to make the updates. If you haven't already, you'll need to verify your identity and set up 2-factor authentication. You can sign in with your existing Login.gov or ID.me account, or create one of these accounts. Note that if you sign in with a DS Logon or My HealtheVet account, you won't be able to change your direct deposit information.\n",
      "-----------------------------\n",
      "question: What if I don’t have a bank account, but I want to use direct deposit?\n",
      "answer: If you don't have a bank account but want to use direct deposit, you can take advantage of the Veterans Benefits Banking Program (VBBP). This program provides a list of Veteran-friendly banks and credit unions that will work with you to set up an account, or help you qualify for an account, so you can use direct deposit. To get started, you can call one of the participating banks or credit unions listed on the VBBP website and mention the Veterans Benefits Banking Program.\n",
      "-----------------------------\n",
      "question: What evidence does VA need to support my disability claim?\n",
      "answer: The VA needs evidence that shows both of the following descriptions are true: \n",
      "\n",
      "1. You have a current physical or mental disability (damage to your body or mind that makes you less able—or totally unable—to do everyday tasks, including meaningful work), and \n",
      "2. An event, injury, or illness happened while you were serving in the military to cause this disability.\n",
      "\n",
      "The documents you'll need to support your claim include your DD214 or other separation documents, your service treatment records, and any medical evidence related to your illness or injury (like doctor’s reports, X-rays, and medical test results). You can also provide VA medical records and hospital records, private medical records and hospital reports, and supporting statements from family members, friends, clergy members, law enforcement personnel, or people you served with.\n",
      "-----------------------------\n",
      "question: What happens after I file my VA disability claim?\n",
      "answer: After you file your VA disability claim, the following steps occur:\n",
      "\n",
      "1. Claim received: The VA will let you know when they receive your claim. If you file online, you'll get an on-screen message after you submit the form. If you mail your application, they'll send you a letter about 1 week, plus mailing time, after they receive your claim.\n",
      "\n",
      "2. Initial review: The VA will review your claim. If they don't need any more evidence to support it, your claim will move to the next step.\n",
      "\n",
      "3. Evidence gathering, review, and decision: During this step, the VA may ask for evidence from you, health care providers, government agencies, or others. They will review the evidence and make a decision.\n",
      "\n",
      "4. Preparation for notification: The VA will prepare your claim decision packet to mail.\n",
      "\n",
      "5. Claim complete: The VA will send you a packet by U.S. mail that includes details of the decision on your claim. Please allow 7 to 10 business days for your packet to arrive before contacting a VA call center.\n",
      "\n",
      "Remember, you don't need to do anything unless the VA sends you a letter asking for more information. If they schedule any exams for you, be sure not to miss them. You can check the status of your claim online. The timeline may vary based on how complex your claim is.\n",
      "-----------------------------\n",
      "question: Can I submit a fully developed disability claim?\n",
      "answer: Yes, you can submit a fully developed disability claim if you're applying for compensation for an illness or injury that was caused by—or got worse because of—your active-duty service, or a condition that was caused—or made worse—by a disability that's already been determined as service-connected.\n",
      "-----------------------------\n",
      "question: Are there any risks to using the Fully Developed Claims program?\n",
      "answer: No, there are no risks to using the Fully Developed Claims program. Filing a fully developed claim won't affect the attention given to your claim or the benefits you're entitled to receive.\n",
      "-----------------------------\n",
      "question: Should I work with a Veterans Service Officer (VSO) to file my claim?\n",
      "answer: Working with a Veterans Service Officer (VSO) can be beneficial as they are accredited representatives who can help you fill out your claim for disability compensation. However, the decision to work with a VSO is entirely up to you and depends on your comfort level with the process and the complexity of your claim.\n",
      "-----------------------------\n"
     ]
    }
   ],
   "source": [
    "answers = []\n",
    "contexts = []\n",
    "for question in df_test['question']:\n",
    "    answer, context = get_response(llm,self_retriever_es, question)\n",
    "    print('question: ' + question)\n",
    "    print('answer: ' + answer)\n",
    "    print('-----------------------------')\n",
    "    answers.append(answer)\n",
    "    contexts.append(context)\n",
    "\n",
    "# Assign the results back to the DataFrame\n",
    "df_test['answer'] = answers\n",
    "df_test['contexts'] = contexts"
   ]
  },
  {
   "cell_type": "code",
   "execution_count": 38,
   "id": "23d4106c-19b3-4bea-af6e-7ee65190cf9e",
   "metadata": {
    "scrolled": true
   },
   "outputs": [
    {
     "data": {
      "text/html": [
       "<div>\n",
       "<style scoped>\n",
       "    .dataframe tbody tr th:only-of-type {\n",
       "        vertical-align: middle;\n",
       "    }\n",
       "\n",
       "    .dataframe tbody tr th {\n",
       "        vertical-align: top;\n",
       "    }\n",
       "\n",
       "    .dataframe thead th {\n",
       "        text-align: right;\n",
       "    }\n",
       "</style>\n",
       "<table border=\"1\" class=\"dataframe\">\n",
       "  <thead>\n",
       "    <tr style=\"text-align: right;\">\n",
       "      <th></th>\n",
       "      <th>question</th>\n",
       "      <th>ground_truths</th>\n",
       "      <th>answer</th>\n",
       "      <th>contexts</th>\n",
       "    </tr>\n",
       "  </thead>\n",
       "  <tbody>\n",
       "    <tr>\n",
       "      <th>0</th>\n",
       "      <td>How long does it take VA to make a decision?</td>\n",
       "      <td>103.3 days, the average number of days to com...</td>\n",
       "      <td>The time it takes for the VA to make a decisio...</td>\n",
       "      <td>[page_content='11/19/23, 9:12 AM The VA Claim ...</td>\n",
       "    </tr>\n",
       "    <tr>\n",
       "      <th>1</th>\n",
       "      <td>what are the factors for determing the time it...</td>\n",
       "      <td>The type of claim you filed.\\nHow many injurie...</td>\n",
       "      <td>The time it takes to review your claim depends...</td>\n",
       "      <td>[page_content='11/19/23, 9:12 AM The VA Claim ...</td>\n",
       "    </tr>\n",
       "    <tr>\n",
       "      <th>2</th>\n",
       "      <td>What should I do if I disagree with my VA disa...</td>\n",
       "      <td>If you disagree with a claim decision that you...</td>\n",
       "      <td>If you disagree with a VA disability claim dec...</td>\n",
       "      <td>[page_content='11/19/23, 9:12 AM The VA Claim ...</td>\n",
       "    </tr>\n",
       "    <tr>\n",
       "      <th>3</th>\n",
       "      <td>How can I change my VA direct deposit informat...</td>\n",
       "      <td>If you receive disability compensation, pensio...</td>\n",
       "      <td>To change your VA direct deposit information o...</td>\n",
       "      <td>[page_content='11/19/23, 9:13 AM Change Your V...</td>\n",
       "    </tr>\n",
       "    <tr>\n",
       "      <th>4</th>\n",
       "      <td>What if I don’t have a bank account, but I wan...</td>\n",
       "      <td>The Veterans Benefits Banking Program (VBBP) p...</td>\n",
       "      <td>If you don't have a bank account but want to u...</td>\n",
       "      <td>[page_content='11/19/23, 9:13 AM Change Your V...</td>\n",
       "    </tr>\n",
       "    <tr>\n",
       "      <th>5</th>\n",
       "      <td>What evidence does VA need to support my disab...</td>\n",
       "      <td>We need evidence that shows that both of these...</td>\n",
       "      <td>The VA needs evidence that shows both of the f...</td>\n",
       "      <td>[page_content='11/19/23, 9:18 AM Evidence Need...</td>\n",
       "    </tr>\n",
       "    <tr>\n",
       "      <th>6</th>\n",
       "      <td>What happens after I file my VA disability claim?</td>\n",
       "      <td>You don’t need to do anything while you’re wai...</td>\n",
       "      <td>After you file your VA disability claim, the f...</td>\n",
       "      <td>[page_content='11/19/23, 9:12 AM The VA Claim ...</td>\n",
       "    </tr>\n",
       "    <tr>\n",
       "      <th>7</th>\n",
       "      <td>Can I submit a fully developed disability claim?</td>\n",
       "      <td>You can submit a fully developed disability cl...</td>\n",
       "      <td>Yes, you can submit a fully developed disabili...</td>\n",
       "      <td>[page_content='11/19/23, 9:17 AM VA Fully Deve...</td>\n",
       "    </tr>\n",
       "    <tr>\n",
       "      <th>8</th>\n",
       "      <td>Are there any risks to using the Fully Develop...</td>\n",
       "      <td>No. Filing a fully developed claim won’t affec...</td>\n",
       "      <td>No, there are no risks to using the Fully Deve...</td>\n",
       "      <td>[page_content='11/19/23, 9:17 AM VA Fully Deve...</td>\n",
       "    </tr>\n",
       "    <tr>\n",
       "      <th>9</th>\n",
       "      <td>Should I work with a Veterans Service Officer ...</td>\n",
       "      <td>You don’t have to, but we encourage you to wor...</td>\n",
       "      <td>Working with a Veterans Service Officer (VSO) ...</td>\n",
       "      <td>[page_content='11/19/23, 9:17 AM File for disa...</td>\n",
       "    </tr>\n",
       "  </tbody>\n",
       "</table>\n",
       "</div>"
      ],
      "text/plain": [
       "                                            question  \\\n",
       "0       How long does it take VA to make a decision?   \n",
       "1  what are the factors for determing the time it...   \n",
       "2  What should I do if I disagree with my VA disa...   \n",
       "3  How can I change my VA direct deposit informat...   \n",
       "4  What if I don’t have a bank account, but I wan...   \n",
       "5  What evidence does VA need to support my disab...   \n",
       "6  What happens after I file my VA disability claim?   \n",
       "7   Can I submit a fully developed disability claim?   \n",
       "8  Are there any risks to using the Fully Develop...   \n",
       "9  Should I work with a Veterans Service Officer ...   \n",
       "\n",
       "                                       ground_truths  \\\n",
       "0   103.3 days, the average number of days to com...   \n",
       "1  The type of claim you filed.\\nHow many injurie...   \n",
       "2  If you disagree with a claim decision that you...   \n",
       "3  If you receive disability compensation, pensio...   \n",
       "4  The Veterans Benefits Banking Program (VBBP) p...   \n",
       "5  We need evidence that shows that both of these...   \n",
       "6  You don’t need to do anything while you’re wai...   \n",
       "7  You can submit a fully developed disability cl...   \n",
       "8  No. Filing a fully developed claim won’t affec...   \n",
       "9  You don’t have to, but we encourage you to wor...   \n",
       "\n",
       "                                              answer  \\\n",
       "0  The time it takes for the VA to make a decisio...   \n",
       "1  The time it takes to review your claim depends...   \n",
       "2  If you disagree with a VA disability claim dec...   \n",
       "3  To change your VA direct deposit information o...   \n",
       "4  If you don't have a bank account but want to u...   \n",
       "5  The VA needs evidence that shows both of the f...   \n",
       "6  After you file your VA disability claim, the f...   \n",
       "7  Yes, you can submit a fully developed disabili...   \n",
       "8  No, there are no risks to using the Fully Deve...   \n",
       "9  Working with a Veterans Service Officer (VSO) ...   \n",
       "\n",
       "                                            contexts  \n",
       "0  [page_content='11/19/23, 9:12 AM The VA Claim ...  \n",
       "1  [page_content='11/19/23, 9:12 AM The VA Claim ...  \n",
       "2  [page_content='11/19/23, 9:12 AM The VA Claim ...  \n",
       "3  [page_content='11/19/23, 9:13 AM Change Your V...  \n",
       "4  [page_content='11/19/23, 9:13 AM Change Your V...  \n",
       "5  [page_content='11/19/23, 9:18 AM Evidence Need...  \n",
       "6  [page_content='11/19/23, 9:12 AM The VA Claim ...  \n",
       "7  [page_content='11/19/23, 9:17 AM VA Fully Deve...  \n",
       "8  [page_content='11/19/23, 9:17 AM VA Fully Deve...  \n",
       "9  [page_content='11/19/23, 9:17 AM File for disa...  "
      ]
     },
     "execution_count": 38,
     "metadata": {},
     "output_type": "execute_result"
    }
   ],
   "source": [
    "df_test"
   ]
  },
  {
   "cell_type": "markdown",
   "id": "a1da4d61-1130-46f9-9ce7-46c16fc6a0e9",
   "metadata": {},
   "source": [
    "#### create evaluation dataset"
   ]
  },
  {
   "cell_type": "code",
   "execution_count": 39,
   "id": "d21f6a2d-8f3e-45fd-abe2-475562746691",
   "metadata": {},
   "outputs": [],
   "source": [
    "from datasets import Dataset, Features, Value, Sequence"
   ]
  },
  {
   "cell_type": "code",
   "execution_count": 40,
   "id": "e93e3caa-97de-47ed-ab64-8f2e8c5bdf07",
   "metadata": {
    "scrolled": true
   },
   "outputs": [],
   "source": [
    "df = df_test"
   ]
  },
  {
   "cell_type": "code",
   "execution_count": 41,
   "id": "5389e373-efbf-4453-8fba-6cf2bc492391",
   "metadata": {},
   "outputs": [],
   "source": [
    "data_dict = df.to_dict(orient = 'list')\n",
    "df['ground_truths'] = df['ground_truths'].apply(lambda x: [x] if isinstance(x, str) else x)"
   ]
  },
  {
   "cell_type": "code",
   "execution_count": 42,
   "id": "5e119512-973c-4f66-93be-8bae3f9bef68",
   "metadata": {},
   "outputs": [],
   "source": [
    "features = Features({\n",
    "    'question': Value('string'),\n",
    "    'ground_truths': Value('string'),\n",
    "    'answer': Value('string'),\n",
    "    'contexts': Sequence(Value('string'))\n",
    "})\n",
    "\n",
    "dataset = Dataset.from_dict(data_dict, features = features)"
   ]
  },
  {
   "cell_type": "code",
   "execution_count": 43,
   "id": "eba18e88-99f3-4402-83e3-272ffc412d9a",
   "metadata": {},
   "outputs": [
    {
     "data": {
      "text/plain": [
       "Dataset({\n",
       "    features: ['question', 'ground_truths', 'answer', 'contexts'],\n",
       "    num_rows: 10\n",
       "})"
      ]
     },
     "execution_count": 43,
     "metadata": {},
     "output_type": "execute_result"
    }
   ],
   "source": [
    "dataset"
   ]
  },
  {
   "cell_type": "code",
   "execution_count": 44,
   "id": "076d568d-45fc-4dd3-bebd-66305ec2f318",
   "metadata": {},
   "outputs": [],
   "source": [
    "llm_eval = ChatOpenAI(model_name=\"gpt-3.5-turbo-16k\", temperature=0)"
   ]
  },
  {
   "cell_type": "code",
   "execution_count": 45,
   "id": "5b97ceb5-d6a5-40ee-82ee-8f5d72ecc9c9",
   "metadata": {},
   "outputs": [],
   "source": [
    "embedding=OpenAIEmbeddings()"
   ]
  },
  {
   "cell_type": "code",
   "execution_count": 46,
   "id": "5bc83738-93db-4380-ba49-b677a75d6784",
   "metadata": {},
   "outputs": [],
   "source": [
    "from ragas.metrics import AnswerCorrectness\n",
    "from ragas.metrics import AnswerRelevancy\n",
    "from ragas.metrics import ContextPrecision\n",
    "from ragas.metrics import ContextRecall\n",
    "\n",
    "answer_correctness = AnswerCorrectness()\n",
    "answer_relevancy = AnswerRelevancy(\n",
    "    embeddings=embedding\n",
    ")\n",
    "\n",
    "context_precision = ContextPrecision()\n",
    "context_recall = ContextRecall()\n"
   ]
  },
  {
   "cell_type": "code",
   "execution_count": 47,
   "id": "22e87a30-8f4b-4149-93c6-a08d8cc36248",
   "metadata": {},
   "outputs": [
    {
     "name": "stderr",
     "output_type": "stream",
     "text": [
      "  0%|                                           | 0/1 [00:00<?, ?it/s]huggingface/tokenizers: The current process just got forked, after parallelism has already been used. Disabling parallelism to avoid deadlocks...\n",
      "To disable this warning, you can either:\n",
      "\t- Avoid using `tokenizers` before the fork if possible\n",
      "\t- Explicitly set the environment variable TOKENIZERS_PARALLELISM=(true | false)\n",
      "huggingface/tokenizers: The current process just got forked, after parallelism has already been used. Disabling parallelism to avoid deadlocks...\n",
      "To disable this warning, you can either:\n",
      "\t- Avoid using `tokenizers` before the fork if possible\n",
      "\t- Explicitly set the environment variable TOKENIZERS_PARALLELISM=(true | false)\n",
      "100%|███████████████████████████████████| 1/1 [00:19<00:00, 19.70s/it]\n"
     ]
    }
   ],
   "source": [
    "ans_correctness_score = answer_correctness.score(dataset)\n",
    "df['answer_correctness'] = ans_correctness_score['answer_correctness']"
   ]
  },
  {
   "cell_type": "code",
   "execution_count": 48,
   "id": "bc702e3e-6bc0-432d-8b35-a4d7954075bb",
   "metadata": {},
   "outputs": [
    {
     "name": "stderr",
     "output_type": "stream",
     "text": [
      "  0%|                                           | 0/1 [00:00<?, ?it/s]huggingface/tokenizers: The current process just got forked, after parallelism has already been used. Disabling parallelism to avoid deadlocks...\n",
      "To disable this warning, you can either:\n",
      "\t- Avoid using `tokenizers` before the fork if possible\n",
      "\t- Explicitly set the environment variable TOKENIZERS_PARALLELISM=(true | false)\n",
      "huggingface/tokenizers: The current process just got forked, after parallelism has already been used. Disabling parallelism to avoid deadlocks...\n",
      "To disable this warning, you can either:\n",
      "\t- Avoid using `tokenizers` before the fork if possible\n",
      "\t- Explicitly set the environment variable TOKENIZERS_PARALLELISM=(true | false)\n",
      "100%|███████████████████████████████████| 1/1 [00:07<00:00,  7.00s/it]\n"
     ]
    }
   ],
   "source": [
    "answer_relevancy_scores = answer_relevancy.score(dataset)\n",
    "df['answer_relevancy'] = answer_relevancy_scores['answer_relevancy']"
   ]
  },
  {
   "cell_type": "code",
   "execution_count": 49,
   "id": "ab8b1439-5a87-4a56-bc8f-91cab4a62bcf",
   "metadata": {},
   "outputs": [
    {
     "name": "stderr",
     "output_type": "stream",
     "text": [
      "  0%|                                           | 0/1 [00:00<?, ?it/s]huggingface/tokenizers: The current process just got forked, after parallelism has already been used. Disabling parallelism to avoid deadlocks...\n",
      "To disable this warning, you can either:\n",
      "\t- Avoid using `tokenizers` before the fork if possible\n",
      "\t- Explicitly set the environment variable TOKENIZERS_PARALLELISM=(true | false)\n",
      "100%|███████████████████████████████████| 1/1 [00:00<00:00,  1.00it/s]\n"
     ]
    }
   ],
   "source": [
    "ContextPrecision_scores = context_precision.score(dataset)\n",
    "df['context_precision'] = ContextPrecision_scores['context_precision']"
   ]
  },
  {
   "cell_type": "code",
   "execution_count": 50,
   "id": "af817ff7-0cf4-4eca-a987-2032f199bee9",
   "metadata": {},
   "outputs": [
    {
     "name": "stderr",
     "output_type": "stream",
     "text": [
      "  0%|                                           | 0/1 [00:00<?, ?it/s]huggingface/tokenizers: The current process just got forked, after parallelism has already been used. Disabling parallelism to avoid deadlocks...\n",
      "To disable this warning, you can either:\n",
      "\t- Avoid using `tokenizers` before the fork if possible\n",
      "\t- Explicitly set the environment variable TOKENIZERS_PARALLELISM=(true | false)\n",
      "100%|███████████████████████████████████| 1/1 [00:03<00:00,  3.56s/it]\n"
     ]
    }
   ],
   "source": [
    "context_recall_scores = context_recall.score(dataset)\n",
    "df['context_recall'] = context_recall_scores['context_recall']"
   ]
  },
  {
   "cell_type": "code",
   "execution_count": 51,
   "id": "39f115e9-d5a5-432b-965f-4f60f02b0a69",
   "metadata": {},
   "outputs": [],
   "source": [
    "df.to_csv('eval_result_openai.csv')"
   ]
  },
  {
   "cell_type": "code",
   "execution_count": null,
   "id": "30a8fe31-300f-4932-aaa0-7b9a87357266",
   "metadata": {},
   "outputs": [],
   "source": []
  }
 ],
 "metadata": {
  "kernelspec": {
   "display_name": "Python 3 (ipykernel)",
   "language": "python",
   "name": "python3"
  },
  "language_info": {
   "codemirror_mode": {
    "name": "ipython",
    "version": 3
   },
   "file_extension": ".py",
   "mimetype": "text/x-python",
   "name": "python",
   "nbconvert_exporter": "python",
   "pygments_lexer": "ipython3",
   "version": "3.10.10"
  }
 },
 "nbformat": 4,
 "nbformat_minor": 5
}
