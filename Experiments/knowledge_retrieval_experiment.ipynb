{
 "cells": [
  {
   "cell_type": "code",
   "execution_count": null,
   "id": "3731488b-78d9-4dcc-99f2-7d0a82ce6241",
   "metadata": {},
   "outputs": [],
   "source": [
    "import bs4\n",
    "from langchain import hub\n",
    "from langchain.chat_models import ChatOpenAI\n",
    "# from langchain.document_loaders import WebBaseLoader\n",
    "from langchain.schema import StrOutputParser\n",
    "from langchain.schema.runnable import RunnablePassthrough\n",
    "from langchain.text_splitter import RecursiveCharacterTextSplitter\n",
    "from langchain.vectorstores import Chroma"
   ]
  },
  {
   "cell_type": "code",
   "execution_count": null,
   "id": "2b732d8f-8b54-42a3-8dec-e1c31aaceb1e",
   "metadata": {},
   "outputs": [],
   "source": [
    "import getpass\n",
    "import os\n",
    "\n",
    "# os.environ[\"OPENAI_API_KEY\"] = getpass.getpass()"
   ]
  },
  {
   "cell_type": "code",
   "execution_count": null,
   "id": "e14bd7a0-6b29-43ec-8ea0-dc135e8d485f",
   "metadata": {},
   "outputs": [],
   "source": [
    "from langchain.chat_models import ChatOpenAI\n",
    "llm = ChatOpenAI(model_name=\"gpt-4\", temperature=0)"
   ]
  },
  {
   "cell_type": "code",
   "execution_count": null,
   "id": "69fc2f28-34cf-443f-ba2b-550c4a2054cb",
   "metadata": {},
   "outputs": [],
   "source": [
    "from langchain.callbacks.manager import CallbackManager\n",
    "from langchain.callbacks.streaming_stdout import StreamingStdOutCallbackHandler\n",
    "from langchain.llms import Ollama\n",
    "\n",
    "llm_orca_mini = Ollama(\n",
    "    model=\"orca-mini\", callback_manager=CallbackManager([StreamingStdOutCallbackHandler()])\n",
    ")"
   ]
  },
  {
   "cell_type": "markdown",
   "id": "aabbe7d8-8a5f-4984-a8d1-6e32177de2c0",
   "metadata": {},
   "source": [
    "### Load data"
   ]
  },
  {
   "cell_type": "code",
   "execution_count": 1,
   "id": "2534321e-8f74-4007-a101-8272edfe9df4",
   "metadata": {},
   "outputs": [],
   "source": [
    "from langchain.document_loaders import PyPDFDirectoryLoader\n",
    "\n",
    "loader = PyPDFDirectoryLoader(\"/Users/yinchangli/guardian/guardian/data/\")\n",
    "\n",
    "docs = loader.load()\n",
    "\n",
    "docs_list = [doc.page_content for doc in docs]"
   ]
  },
  {
   "cell_type": "code",
   "execution_count": 2,
   "id": "74e56d6b-834c-4ed0-8a2a-bfae8f6ed8ec",
   "metadata": {},
   "outputs": [],
   "source": [
    "from langchain.document_loaders import DirectoryLoader"
   ]
  },
  {
   "cell_type": "markdown",
   "id": "193b7a82-1fd8-4610-8e71-7ee25700bfae",
   "metadata": {
    "scrolled": true
   },
   "source": [
    "### load code repo"
   ]
  },
  {
   "cell_type": "code",
   "execution_count": null,
   "id": "e115b614-d2ab-4a08-a035-63764e8657c4",
   "metadata": {},
   "outputs": [],
   "source": [
    "repo_path = \"/Users/yinchangli/guardian/guardian/data/\""
   ]
  },
  {
   "cell_type": "code",
   "execution_count": 6,
   "id": "1f77a99a-18a9-40cc-bf8e-1c29d365db66",
   "metadata": {},
   "outputs": [],
   "source": [
    "# from git import Repo\n",
    "from langchain.document_loaders.generic import GenericLoader\n",
    "from langchain.document_loaders.parsers import LanguageParser\n",
    "from langchain.text_splitter import Language"
   ]
  },
  {
   "cell_type": "code",
   "execution_count": 9,
   "id": "412c513f-68e6-4dff-8630-ff90e63fb04b",
   "metadata": {},
   "outputs": [
    {
     "data": {
      "text/plain": [
       "56"
      ]
     },
     "execution_count": 9,
     "metadata": {},
     "output_type": "execute_result"
    }
   ],
   "source": [
    "# Load\n",
    "loader = GenericLoader.from_filesystem(\n",
    "    repo_path,\n",
    "    glob=\"**/*\",\n",
    "    suffixes=[\".py\",\".csv\"],\n",
    "    parser=LanguageParser()\n",
    ")\n",
    "documents = loader.load()\n",
    "len(documents)"
   ]
  },
  {
   "cell_type": "code",
   "execution_count": null,
   "id": "85e24e83-f7fa-4b9c-8f74-94ab4b9b2013",
   "metadata": {},
   "outputs": [],
   "source": []
  },
  {
   "cell_type": "code",
   "execution_count": null,
   "id": "999d3d42-1870-4641-82a2-26ca5e65684a",
   "metadata": {},
   "outputs": [],
   "source": [
    "from langchain.text_splitter import RecursiveCharacterTextSplitter\n",
    "\n",
    "python_splitter = RecursiveCharacterTextSplitter.from_language(\n",
    "    language=Language.PYTHON, chunk_size=2000, chunk_overlap=200\n",
    ")\n",
    "texts = python_splitter.split_documents(documents)\n",
    "len(texts)"
   ]
  },
  {
   "cell_type": "code",
   "execution_count": null,
   "id": "7b3fb487-5c1b-4ee4-a45b-f14628689510",
   "metadata": {},
   "outputs": [],
   "source": []
  },
  {
   "cell_type": "code",
   "execution_count": null,
   "id": "694f098d-3a45-4429-a0db-82fe0e1d954f",
   "metadata": {},
   "outputs": [],
   "source": []
  },
  {
   "cell_type": "markdown",
   "id": "7f54a81e-001b-4f1e-a4f0-7035d845d49a",
   "metadata": {},
   "source": [
    "### Split data"
   ]
  },
  {
   "cell_type": "code",
   "execution_count": null,
   "id": "d85fe8e7-0601-4826-9cb7-8a712cc51996",
   "metadata": {},
   "outputs": [],
   "source": [
    "from langchain.text_splitter import RecursiveCharacterTextSplitter\n",
    "\n",
    "text_splitter = RecursiveCharacterTextSplitter(\n",
    "    chunk_size=1000, chunk_overlap=200, add_start_index=True\n",
    ")\n",
    "all_splits = text_splitter.split_documents(docs)"
   ]
  },
  {
   "cell_type": "markdown",
   "id": "d0c39618-f779-40f5-ac23-64c5f977fd22",
   "metadata": {},
   "source": [
    "### Embedings"
   ]
  },
  {
   "cell_type": "code",
   "execution_count": null,
   "id": "83b2334b-41e2-429e-ab8d-c3bfa4ef9f7a",
   "metadata": {},
   "outputs": [],
   "source": [
    "from langchain.embeddings import OpenAIEmbeddings\n",
    "from langchain.embeddings import HuggingFaceBgeEmbeddings\n",
    "\n",
    "embedding=OpenAIEmbeddings()\n",
    "# model_name = 'sentence-transformers/all-MiniLM-L6-v2'\n",
    "# model_name = 'intfloat/e5-large-v2'\n",
    "# embedding_sentence_trans = HuggingFaceBgeEmbeddings(model_name = 'sentence-transformers/all-MiniLM-L6-v2')\n",
    "# embedding_e5_large_v2 = HuggingFaceBgeEmbeddings(model_name = 'intfloat/e5-large-v2')"
   ]
  },
  {
   "cell_type": "markdown",
   "id": "f2ab117b-8407-4c3f-9c66-e93508eda7fc",
   "metadata": {},
   "source": [
    "### Elastisearch"
   ]
  },
  {
   "cell_type": "code",
   "execution_count": null,
   "id": "4ab3b10b-12c6-42f5-9a09-5bdfaedadec4",
   "metadata": {},
   "outputs": [],
   "source": [
    "from langchain.embeddings.openai import OpenAIEmbeddings\n",
    "from langchain.vectorstores import ElasticsearchStore"
   ]
  },
  {
   "cell_type": "code",
   "execution_count": null,
   "id": "8b74188b-81ce-4544-b160-69602ac218fd",
   "metadata": {},
   "outputs": [],
   "source": [
    "es_db = ElasticsearchStore.from_documents(\n",
    "    texts, \n",
    "    embedding, \n",
    "    es_url=\"http://localhost:9200\", \n",
    "    index_name=\"index_godaddy\",\n",
    "    distance_strategy=\"COSINE\",\n",
    ")\n"
   ]
  },
  {
   "cell_type": "code",
   "execution_count": null,
   "id": "539d838f-5b39-46dd-b020-ed593a3c6c7c",
   "metadata": {},
   "outputs": [],
   "source": [
    "es_db = ElasticsearchStore.from_documents(\n",
    "    texts, \n",
    "    embedding, \n",
    "    es_url=\"http://localhost:9200\", \n",
    "    index_name=\"index_fod\",\n",
    "    distance_strategy=\"COSINE\",\n",
    ")\n"
   ]
  },
  {
   "cell_type": "code",
   "execution_count": null,
   "id": "ef9dd1e5-5dde-400f-851e-cb7daa4644e6",
   "metadata": {},
   "outputs": [],
   "source": [
    "es_db = ElasticsearchStore.from_documents(\n",
    "    texts, \n",
    "    embedding, \n",
    "    es_url=\"http://localhost:9200\", \n",
    "    index_name=\"index_ui_wb\",\n",
    "    distance_strategy=\"COSINE\",\n",
    ")\n"
   ]
  },
  {
   "cell_type": "code",
   "execution_count": null,
   "id": "1c2074c5-d88b-42fd-a8a4-bd69fa75d820",
   "metadata": {},
   "outputs": [],
   "source": []
  },
  {
   "cell_type": "code",
   "execution_count": null,
   "id": "8509bda1-87fd-4ee6-9a6e-5c6dd6dfd0f0",
   "metadata": {},
   "outputs": [],
   "source": [
    "es_db = ElasticsearchStore.from_documents(\n",
    "    texts, \n",
    "    embedding, \n",
    "    es_url=\"http://localhost:9200\", \n",
    "    index_name=\"index_repo\",\n",
    "    distance_strategy=\"COSINE\",\n",
    ")\n"
   ]
  },
  {
   "cell_type": "code",
   "execution_count": null,
   "id": "fafa1e03-56a4-488b-9b4d-fde4090106bf",
   "metadata": {},
   "outputs": [],
   "source": [
    "es_db = ElasticsearchStore.from_documents(\n",
    "    docs, \n",
    "    embedding, \n",
    "    es_url=\"http://localhost:9200\", \n",
    "    index_name=\"index_oai\",\n",
    "    distance_strategy=\"COSINE\",\n",
    ")\n"
   ]
  },
  {
   "cell_type": "code",
   "execution_count": null,
   "id": "806ff0fb-80f8-4c8f-8446-120b9593b086",
   "metadata": {},
   "outputs": [],
   "source": [
    "es_db_e5 = ElasticsearchStore.from_documents(\n",
    "    docs, \n",
    "    embedding_e5_large_v2, \n",
    "    es_url=\"http://localhost:9200\", \n",
    "    index_name=\"index_e5\",\n",
    "    distance_strategy=\"COSINE\",\n",
    ")\n"
   ]
  },
  {
   "cell_type": "code",
   "execution_count": null,
   "id": "2b482193-a70c-4433-bdd0-0bcbec7278ae",
   "metadata": {},
   "outputs": [],
   "source": [
    "es_db_stn_trns = ElasticsearchStore.from_documents(\n",
    "    docs, \n",
    "    embedding_sentence_trans, \n",
    "    es_url=\"http://localhost:9200\", \n",
    "    index_name=\"inext_stn_trns\",\n",
    "    distance_strategy=\"COSINE\",\n",
    ")"
   ]
  },
  {
   "cell_type": "code",
   "execution_count": null,
   "id": "cde3fedf-6923-4bef-8a5b-113133b47e0b",
   "metadata": {
    "scrolled": true
   },
   "outputs": [],
   "source": [
    "# es_db.client.indices.refresh(index=\"test\")\n",
    "\n",
    "# query = \"How long does it take VA to make a decision?\"\n",
    "# results = es_db.similarity_search(query)\n",
    "# print(results)"
   ]
  },
  {
   "cell_type": "code",
   "execution_count": null,
   "id": "56b9b95f-78ad-4f7c-b03f-aac87821e649",
   "metadata": {},
   "outputs": [],
   "source": [
    "es_retriever = es_db.as_retriever(search_type=\"similarity\", search_kwargs={\"k\": 4})"
   ]
  },
  {
   "cell_type": "code",
   "execution_count": null,
   "id": "a7d2fc7f-a837-4896-ab2b-ee4884259fcf",
   "metadata": {},
   "outputs": [],
   "source": []
  },
  {
   "cell_type": "markdown",
   "id": "6ba76903-5a8a-4ca2-a6cb-6fc753faabfe",
   "metadata": {},
   "source": [
    "### Chroma Retriever"
   ]
  },
  {
   "cell_type": "code",
   "execution_count": null,
   "id": "b037dc0c-954f-4970-b168-03df924889b2",
   "metadata": {
    "scrolled": true
   },
   "outputs": [],
   "source": [
    "from langchain.vectorstores import Chroma\n",
    "\n",
    "vectorstore = Chroma.from_documents(documents=texts, embedding=embedding)\n",
    "chroma_retriever = vectorstore.as_retriever(search_type=\"similarity\", search_kwargs={\"k\": 4})"
   ]
  },
  {
   "cell_type": "markdown",
   "id": "04161a60-37e3-4d3b-b30d-ad7da364e93a",
   "metadata": {},
   "source": [
    "### FAISS Retriever"
   ]
  },
  {
   "cell_type": "code",
   "execution_count": null,
   "id": "9a5aaa1f-1826-4799-9021-2b857644077c",
   "metadata": {},
   "outputs": [],
   "source": [
    "from langchain.vectorstores import FAISS"
   ]
  },
  {
   "cell_type": "code",
   "execution_count": null,
   "id": "0b4173a0-a391-4ace-9821-6af2858b580c",
   "metadata": {},
   "outputs": [],
   "source": [
    "faiss_vectorstore = FAISS.from_documents(docs, embedding)"
   ]
  },
  {
   "cell_type": "code",
   "execution_count": null,
   "id": "c53e65d2-fdc7-42e1-af09-0946f2b58887",
   "metadata": {},
   "outputs": [],
   "source": [
    "faiss_retriever = faiss_vectorstore.as_retriever(search_kwargs={\"k\": 4})"
   ]
  },
  {
   "cell_type": "markdown",
   "id": "848f0b05-3e7f-403e-8966-bbe2314dee24",
   "metadata": {},
   "source": [
    "### Self-querying"
   ]
  },
  {
   "cell_type": "code",
   "execution_count": null,
   "id": "8bbfd9b6-a0b5-4de0-8f48-8f26b724cce4",
   "metadata": {},
   "outputs": [],
   "source": [
    "from langchain.chains.query_constructor.base import AttributeInfo\n",
    "from langchain.chat_models import ChatOpenAI\n",
    "from langchain.retrievers.self_query.base import SelfQueryRetriever\n",
    "\n",
    "metadata_field_info = [\n",
    "    AttributeInfo(\n",
    "        name=\"disability_type\",\n",
    "        description=\"The type of disability being referenced. Examples include 'PTSD', 'hearing loss', 'musculoskeletal', 'mental health', etc.\",\n",
    "        type=\"string\",\n",
    "    ),\n",
    "    AttributeInfo(\n",
    "        name=\"compensation_criteria\",\n",
    "        description=\"Key criteria or conditions for compensation eligibility related to the disability\",\n",
    "        type=\"string\",\n",
    "    ),\n",
    "    AttributeInfo(\n",
    "        name=\"benefit_rate\",\n",
    "        description=\"The rate or range of VA disability compensation for the specific disability, often dependent on severity and other factors\",\n",
    "        type=\"string\",\n",
    "    ),\n",
    "    AttributeInfo(\n",
    "        name=\"documentation_required\",\n",
    "        description=\"Description of the documentation required for the compensation claim, such as medical records, service records, etc.\",\n",
    "        type=\"string\",\n",
    "    ),\n",
    "]\n",
    "document_content_description = \"Answers to common questions or explanations related to VA disability compensation\"\n"
   ]
  },
  {
   "cell_type": "code",
   "execution_count": null,
   "id": "b9dc63d6-af8d-4e0a-b05e-eaf19cd145ee",
   "metadata": {},
   "outputs": [],
   "source": [
    "self_retriever_chrome = SelfQueryRetriever.from_llm(\n",
    "    llm,\n",
    "    vectorstore,\n",
    "    document_content_description,\n",
    "    metadata_field_info,\n",
    ")\n",
    "\n",
    "self_retriever_es = SelfQueryRetriever.from_llm(\n",
    "    llm,\n",
    "    es_db,\n",
    "    document_content_description,\n",
    "    metadata_field_info,\n",
    ")\n"
   ]
  },
  {
   "cell_type": "markdown",
   "id": "c119fd18-1137-4e62-a46f-2b98f00cb58e",
   "metadata": {},
   "source": [
    "### Ensemble Retriever"
   ]
  },
  {
   "cell_type": "code",
   "execution_count": null,
   "id": "3310d713-e08d-4e7b-9c40-44e7f82a1d72",
   "metadata": {
    "scrolled": true
   },
   "outputs": [],
   "source": [
    "from langchain.retrievers import BM25Retriever, EnsembleRetriever\n",
    "bm25_retriever = BM25Retriever.from_texts(docs_list)\n",
    "bm25_retriever.k = 2\n",
    "\n",
    "ensemble_retriever = EnsembleRetriever(\n",
    "    retrievers=[bm25_retriever, faiss_retriever], weights=[0.5, 0.5]\n",
    ")"
   ]
  },
  {
   "cell_type": "code",
   "execution_count": null,
   "id": "47295da8-6cc9-47bf-9b31-3d00962c5fa1",
   "metadata": {},
   "outputs": [],
   "source": []
  },
  {
   "cell_type": "markdown",
   "id": "e28b80b7-ef91-4664-b6d5-e6bd55c4e6da",
   "metadata": {},
   "source": [
    "### LLM Inference"
   ]
  },
  {
   "cell_type": "code",
   "execution_count": null,
   "id": "045bc340-b44b-478b-94cd-697e9dbdbc26",
   "metadata": {},
   "outputs": [],
   "source": [
    "from langchain.chat_models import ChatOpenAI\n",
    "llm = ChatOpenAI(model_name=\"gpt-4\", temperature=0)"
   ]
  },
  {
   "cell_type": "code",
   "execution_count": null,
   "id": "eb973d9d-1074-4147-b06d-df17d32c88b5",
   "metadata": {},
   "outputs": [],
   "source": [
    "from langchain.chains import ConversationalRetrievalChain\n",
    "from langchain.llms import OpenAI\n",
    "from langchain.memory import ConversationSummaryMemory"
   ]
  },
  {
   "cell_type": "code",
   "execution_count": null,
   "id": "6328bda4-b04b-4968-b68e-79a76ff5cf66",
   "metadata": {},
   "outputs": [],
   "source": [
    "def get_response(llm, retriever,query):\n",
    "    qa = ConversationalRetrievalChain.from_llm(\n",
    "        llm,\n",
    "        retriever,\n",
    "        return_source_documents=True\n",
    "    )\n",
    "    result = qa({\"question\": query, \"chat_history\":[]})\n",
    "    return result['answer'], result['source_documents']\n",
    "    "
   ]
  },
  {
   "cell_type": "code",
   "execution_count": null,
   "id": "bc17d83b-71d2-4424-a162-6c9da16bc7a9",
   "metadata": {},
   "outputs": [],
   "source": [
    "# query = \"what are the factors for determing the time it will take my claim?\"\n",
    "# query = \"How long does it take VA to make a decision?\"\n",
    "query = 'where can i change open api?'"
   ]
  },
  {
   "cell_type": "code",
   "execution_count": null,
   "id": "8428046d-f95f-409c-b65d-20fdc1198797",
   "metadata": {},
   "outputs": [],
   "source": [
    "response = get_response(llm, es_retriever, query)"
   ]
  },
  {
   "cell_type": "code",
   "execution_count": null,
   "id": "839b712e-b887-4f91-8565-b2b615898ffb",
   "metadata": {},
   "outputs": [],
   "source": [
    "response[0]"
   ]
  },
  {
   "cell_type": "code",
   "execution_count": null,
   "id": "ab8814da-2f51-4269-a5c3-4b41b445e4e5",
   "metadata": {
    "scrolled": true
   },
   "outputs": [],
   "source": [
    "get_response(llm, chroma_retriever, query)"
   ]
  },
  {
   "cell_type": "code",
   "execution_count": null,
   "id": "e6efd5bc-3670-4cf7-a2d0-e19b8f1bc138",
   "metadata": {
    "scrolled": true
   },
   "outputs": [],
   "source": [
    "get_response(llm_orca_mini, self_retriever_chrome, query)"
   ]
  },
  {
   "cell_type": "code",
   "execution_count": null,
   "id": "cad4c8f1-085c-481f-b588-5bd6dadff7bd",
   "metadata": {
    "scrolled": true
   },
   "outputs": [],
   "source": [
    "get_response(llm, faiss_retriever, query)"
   ]
  },
  {
   "cell_type": "code",
   "execution_count": null,
   "id": "fd7029ca-2080-47d8-b272-000c95f3702b",
   "metadata": {
    "scrolled": true
   },
   "outputs": [],
   "source": []
  },
  {
   "cell_type": "markdown",
   "id": "d8093110-fcb3-4fc2-b39c-6ef25506ed3c",
   "metadata": {
    "scrolled": true
   },
   "source": [
    "### Guardrails"
   ]
  },
  {
   "cell_type": "code",
   "execution_count": null,
   "id": "80c3c71d-6d6c-49bb-b497-1d135b47cc46",
   "metadata": {},
   "outputs": [],
   "source": [
    "from nemoguardrails import LLMRails, RailsConfig"
   ]
  },
  {
   "cell_type": "code",
   "execution_count": null,
   "id": "a4990371-fb41-48a8-8d32-36d839b4bfa2",
   "metadata": {},
   "outputs": [],
   "source": [
    "# !pwd\n",
    "CONFIG_PATH = \"/Users/yinchangli/guardian/guardian/Topical_Rail/\""
   ]
  },
  {
   "cell_type": "code",
   "execution_count": null,
   "id": "1f1981c0-aed8-4dfd-9b8b-0e475ca4d977",
   "metadata": {},
   "outputs": [],
   "source": [
    "llm = ChatOpenAI(model_name=\"gpt-4\", temperature=0)\n",
    "config = RailsConfig.from_path(CONFIG_PATH)"
   ]
  },
  {
   "cell_type": "code",
   "execution_count": null,
   "id": "f8674991-cdc8-4573-bfc1-cac12f12a29b",
   "metadata": {},
   "outputs": [],
   "source": [
    "def get_guardrail_response(llm, retriever,query):\n",
    "    qa = ConversationalRetrievalChain.from_llm(\n",
    "        llm,\n",
    "        retriever,\n",
    "        return_source_documents=True\n",
    "    )\n",
    "    app = LLMRails(config = config, llm = llm)\n",
    "    app.register_action(qa, name = 'conversation')\n",
    "    history = [\n",
    "    {\"role\": \"user\", \"content\":query}\n",
    "]\n",
    "    result = app.generate(messages = history)\n",
    "    return result"
   ]
  },
  {
   "cell_type": "code",
   "execution_count": null,
   "id": "fa6babc4-7aab-4766-9c81-b46d91a3496d",
   "metadata": {},
   "outputs": [],
   "source": [
    "query = \"How long does it take VA to make a decision?\"\n",
    "get_guardrail_response(llm, chroma_retriever, query)"
   ]
  },
  {
   "cell_type": "code",
   "execution_count": null,
   "id": "587b2980-eb18-47e9-85ce-1c9400ba2377",
   "metadata": {},
   "outputs": [],
   "source": [
    "get_guardrail_response(llm_orca_mini, chroma_retriever, query)"
   ]
  },
  {
   "cell_type": "markdown",
   "id": "ff0bd190-fc47-43f6-93f8-5c5e502c0714",
   "metadata": {},
   "source": [
    "## RAG System Evaluation"
   ]
  },
  {
   "cell_type": "code",
   "execution_count": null,
   "id": "2f580749-afd2-41d0-b6e4-19adfa1af2d8",
   "metadata": {},
   "outputs": [],
   "source": [
    "import pandas as pd\n",
    "\n",
    "df_test = pd.read_csv('questions_w_groundtruth.csv')"
   ]
  },
  {
   "cell_type": "code",
   "execution_count": null,
   "id": "1d9a4c7a-6603-4321-9b97-f015566fb7c5",
   "metadata": {
    "scrolled": true
   },
   "outputs": [],
   "source": [
    "answers = []\n",
    "contexts = []\n",
    "for question in df_test['question']:\n",
    "    answer, context = get_response(llm,self_retriever_es, question)\n",
    "    print('question: ' + question)\n",
    "    print('answer: ' + answer)\n",
    "    print('-----------------------------')\n",
    "    answers.append(answer)\n",
    "    contexts.append(context)\n",
    "\n",
    "# Assign the results back to the DataFrame\n",
    "df_test['answer'] = answers\n",
    "df_test['contexts'] = contexts"
   ]
  },
  {
   "cell_type": "code",
   "execution_count": null,
   "id": "23d4106c-19b3-4bea-af6e-7ee65190cf9e",
   "metadata": {
    "scrolled": true
   },
   "outputs": [],
   "source": [
    "df_test"
   ]
  },
  {
   "cell_type": "markdown",
   "id": "a1da4d61-1130-46f9-9ce7-46c16fc6a0e9",
   "metadata": {},
   "source": [
    "#### create evaluation dataset"
   ]
  },
  {
   "cell_type": "code",
   "execution_count": null,
   "id": "d21f6a2d-8f3e-45fd-abe2-475562746691",
   "metadata": {},
   "outputs": [],
   "source": [
    "from datasets import Dataset, Features, Value, Sequence"
   ]
  },
  {
   "cell_type": "code",
   "execution_count": null,
   "id": "e93e3caa-97de-47ed-ab64-8f2e8c5bdf07",
   "metadata": {
    "scrolled": true
   },
   "outputs": [],
   "source": [
    "df = df_test"
   ]
  },
  {
   "cell_type": "code",
   "execution_count": null,
   "id": "5389e373-efbf-4453-8fba-6cf2bc492391",
   "metadata": {},
   "outputs": [],
   "source": [
    "data_dict = df.to_dict(orient = 'list')\n",
    "df['ground_truths'] = df['ground_truths'].apply(lambda x: [x] if isinstance(x, str) else x)"
   ]
  },
  {
   "cell_type": "code",
   "execution_count": null,
   "id": "5e119512-973c-4f66-93be-8bae3f9bef68",
   "metadata": {},
   "outputs": [],
   "source": [
    "features = Features({\n",
    "    'question': Value('string'),\n",
    "    'ground_truths': Value('string'),\n",
    "    'answer': Value('string'),\n",
    "    'contexts': Sequence(Value('string'))\n",
    "})\n",
    "\n",
    "dataset = Dataset.from_dict(data_dict, features = features)"
   ]
  },
  {
   "cell_type": "code",
   "execution_count": null,
   "id": "eba18e88-99f3-4402-83e3-272ffc412d9a",
   "metadata": {},
   "outputs": [],
   "source": [
    "dataset"
   ]
  },
  {
   "cell_type": "code",
   "execution_count": null,
   "id": "076d568d-45fc-4dd3-bebd-66305ec2f318",
   "metadata": {},
   "outputs": [],
   "source": [
    "llm_eval = ChatOpenAI(model_name=\"gpt-3.5-turbo-16k\", temperature=0)"
   ]
  },
  {
   "cell_type": "code",
   "execution_count": null,
   "id": "5b97ceb5-d6a5-40ee-82ee-8f5d72ecc9c9",
   "metadata": {},
   "outputs": [],
   "source": [
    "embedding=OpenAIEmbeddings()"
   ]
  },
  {
   "cell_type": "code",
   "execution_count": null,
   "id": "5bc83738-93db-4380-ba49-b677a75d6784",
   "metadata": {},
   "outputs": [],
   "source": [
    "from ragas.metrics import AnswerCorrectness\n",
    "from ragas.metrics import AnswerRelevancy\n",
    "from ragas.metrics import ContextPrecision\n",
    "from ragas.metrics import ContextRecall\n",
    "\n",
    "answer_correctness = AnswerCorrectness()\n",
    "answer_relevancy = AnswerRelevancy(\n",
    "    embeddings=embedding\n",
    ")\n",
    "\n",
    "context_precision = ContextPrecision()\n",
    "context_recall = ContextRecall()\n"
   ]
  },
  {
   "cell_type": "code",
   "execution_count": null,
   "id": "22e87a30-8f4b-4149-93c6-a08d8cc36248",
   "metadata": {},
   "outputs": [],
   "source": [
    "ans_correctness_score = answer_correctness.score(dataset)\n",
    "df['answer_correctness'] = ans_correctness_score['answer_correctness']"
   ]
  },
  {
   "cell_type": "code",
   "execution_count": null,
   "id": "bc702e3e-6bc0-432d-8b35-a4d7954075bb",
   "metadata": {},
   "outputs": [],
   "source": [
    "answer_relevancy_scores = answer_relevancy.score(dataset)\n",
    "df['answer_relevancy'] = answer_relevancy_scores['answer_relevancy']"
   ]
  },
  {
   "cell_type": "code",
   "execution_count": null,
   "id": "ab8b1439-5a87-4a56-bc8f-91cab4a62bcf",
   "metadata": {},
   "outputs": [],
   "source": [
    "ContextPrecision_scores = context_precision.score(dataset)\n",
    "df['context_precision'] = ContextPrecision_scores['context_precision']"
   ]
  },
  {
   "cell_type": "code",
   "execution_count": null,
   "id": "af817ff7-0cf4-4eca-a987-2032f199bee9",
   "metadata": {},
   "outputs": [],
   "source": [
    "context_recall_scores = context_recall.score(dataset)\n",
    "df['context_recall'] = context_recall_scores['context_recall']"
   ]
  },
  {
   "cell_type": "code",
   "execution_count": null,
   "id": "39f115e9-d5a5-432b-965f-4f60f02b0a69",
   "metadata": {},
   "outputs": [],
   "source": [
    "df.to_csv('eval_result_openai.csv')"
   ]
  },
  {
   "cell_type": "code",
   "execution_count": null,
   "id": "30a8fe31-300f-4932-aaa0-7b9a87357266",
   "metadata": {},
   "outputs": [],
   "source": []
  }
 ],
 "metadata": {
  "kernelspec": {
   "display_name": "Python 3 (ipykernel)",
   "language": "python",
   "name": "python3"
  },
  "language_info": {
   "codemirror_mode": {
    "name": "ipython",
    "version": 3
   },
   "file_extension": ".py",
   "mimetype": "text/x-python",
   "name": "python",
   "nbconvert_exporter": "python",
   "pygments_lexer": "ipython3",
   "version": "3.10.10"
  }
 },
 "nbformat": 4,
 "nbformat_minor": 5
}
